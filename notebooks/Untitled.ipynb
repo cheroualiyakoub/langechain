{
 "cells": [
  {
   "cell_type": "code",
   "execution_count": 1,
   "id": "a8476a4a-8075-4b77-9958-61d7004a83a4",
   "metadata": {},
   "outputs": [],
   "source": [
    "import sys, os\n",
    "src_path = os.path.abspath(\"../src\")\n",
    "if src_path not in sys.path:\n",
    "    sys.path.append(src_path)"
   ]
  },
  {
   "cell_type": "code",
   "execution_count": 2,
   "id": "05121cbc-3c5c-4b54-8c7d-d236d338dd4c",
   "metadata": {},
   "outputs": [
    {
     "data": {
      "text/plain": [
       "'Environment ready for experiments'"
      ]
     },
     "execution_count": 2,
     "metadata": {},
     "output_type": "execute_result"
    }
   ],
   "source": [
    "from utils.notebook_helper import setup_notebook_environment\n",
    "setup_notebook_environment()"
   ]
  },
  {
   "cell_type": "code",
   "execution_count": 3,
   "id": "20e7c099-b636-450c-8ae2-4c8d5986188e",
   "metadata": {},
   "outputs": [],
   "source": [
    "from llm.router import LLMRouter\n",
    "\n",
    "client = LLMRouter(model=\"gpt4\")"
   ]
  },
  {
   "cell_type": "code",
   "execution_count": 4,
   "id": "46ebdb29-60fc-402d-82f8-01af266322b6",
   "metadata": {},
   "outputs": [
    {
     "ename": "ModuleNotFoundError",
     "evalue": "No module named 'fitz'",
     "output_type": "error",
     "traceback": [
      "\u001b[0;31m---------------------------------------------------------------------------\u001b[0m",
      "\u001b[0;31mModuleNotFoundError\u001b[0m                       Traceback (most recent call last)",
      "Cell \u001b[0;32mIn[4], line 1\u001b[0m\n\u001b[0;32m----> 1\u001b[0m \u001b[38;5;28;01mimport\u001b[39;00m\u001b[38;5;250m \u001b[39m\u001b[38;5;21;01mfitz\u001b[39;00m  \u001b[38;5;66;03m# PyMuPDF\u001b[39;00m\n\u001b[1;32m      3\u001b[0m \u001b[38;5;28;01mdef\u001b[39;00m\u001b[38;5;250m \u001b[39m\u001b[38;5;21mpdf_to_text\u001b[39m(path):\n\u001b[1;32m      4\u001b[0m     doc \u001b[38;5;241m=\u001b[39m fitz\u001b[38;5;241m.\u001b[39mopen(path)\n",
      "\u001b[0;31mModuleNotFoundError\u001b[0m: No module named 'fitz'"
     ]
    }
   ],
   "source": [
    "import fitz  # PyMuPDF\n",
    "\n",
    "def pdf_to_text(path):\n",
    "    doc = fitz.open(path)\n",
    "    text = \"\"\n",
    "    for page in doc:\n",
    "        text += page.get_text()\n",
    "    return text\n",
    "\n",
    "raw_text = pdf_to_text(\"EP18823397W1B9.pdf\")"
   ]
  },
  {
   "cell_type": "code",
   "execution_count": null,
   "id": "ad44f7a4-5e02-4dd8-ade8-1d8e9c66f6d4",
   "metadata": {},
   "outputs": [],
   "source": []
  }
 ],
 "metadata": {
  "kernelspec": {
   "display_name": "Python 3 (ipykernel)",
   "language": "python",
   "name": "python3"
  },
  "language_info": {
   "codemirror_mode": {
    "name": "ipython",
    "version": 3
   },
   "file_extension": ".py",
   "mimetype": "text/x-python",
   "name": "python",
   "nbconvert_exporter": "python",
   "pygments_lexer": "ipython3",
   "version": "3.10.18"
  }
 },
 "nbformat": 4,
 "nbformat_minor": 5
}
