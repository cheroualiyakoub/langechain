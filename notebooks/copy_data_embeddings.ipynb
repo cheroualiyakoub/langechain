{
 "cells": [
  {
   "cell_type": "code",
   "execution_count": 12,
   "id": "8a1ddad5-ac63-4327-a9c3-27a27b662745",
   "metadata": {},
   "outputs": [
    {
     "name": "stdout",
     "output_type": "stream",
     "text": [
      "🔍 Testing JSON File Loading Functions\n",
      "==================================================\n",
      "📁 Current directory: /app/notebooks\n",
      "📁 Project root: /app\n",
      "📁 Source directory: /app/src\n",
      "✅ Python paths configured\n"
     ]
    }
   ],
   "source": [
    "import sys\n",
    "import os\n",
    "from pathlib import Path\n",
    "import time\n",
    "import json\n",
    "import math\n",
    "\n",
    "# Add source directories to Python path\n",
    "current_dir = Path.cwd()\n",
    "project_root = current_dir.parent  # Go up one level from notebooks to project root\n",
    "src_dir = project_root / \"src\"\n",
    "\n",
    "# Add paths - FIXED to include embeddings directory\n",
    "sys.path.append(str(src_dir / \"data_pipline\"))\n",
    "sys.path.append(str(src_dir / \"EU_XML_data_loader\"))\n",
    "sys.path.append(str(src_dir / \"embeddings\"))  # Add this line to include embeddings\n",
    "\n",
    "# Other imports\n",
    "from data_pipline import DataPipeline\n",
    "import get_raw_data_paths_EPO  \n",
    "from xml_loader_EPO import process_xml_files_list\n",
    "\n",
    "# Import the embeddings module\n",
    "from embeddings import DocumentEmbedder, batch_process_json_files, extract_documents_epo\n",
    "\n",
    "# Import the JSON loader functions\n",
    "sys.path.append(str(src_dir / \"data_pipline\" / \"json_loader\"))\n",
    "from json_loader_epo import get_epo_json_file_paths, get_all_json_file_paths, load_json_documents\n",
    "from embeddings import DocumentEmbedder, EmbeddingConfig\n",
    "\n",
    "print(\"🔍 Testing JSON File Loading Functions\")\n",
    "print(\"=\" * 50)\n",
    "\n",
    "print(f\"📁 Current directory: {current_dir}\")\n",
    "print(f\"📁 Project root: {project_root}\")\n",
    "print(f\"📁 Source directory: {src_dir}\")\n",
    "print(f\"✅ Python paths configured\")"
   ]
  },
  {
   "cell_type": "code",
   "execution_count": 13,
   "id": "d248908e-e3b7-4aa0-8820-5c19d8d5f0df",
   "metadata": {},
   "outputs": [],
   "source": [
    "\n",
    "import sys\n",
    "import os\n",
    "from pathlib import Path\n",
    "import time\n",
    "import json\n",
    "import math\n",
    "\n",
    "# Add source directories to Python path\n",
    "current_dir = Path.cwd()\n",
    "project_root = current_dir.parent  # Go up one level from notebooks to project root\n",
    "src_dir = project_root / \"src\"\n",
    "\n",
    "\n"
   ]
  },
  {
   "cell_type": "code",
   "execution_count": 14,
   "id": "6480c752-f107-4590-8dec-3aacacaa27ac",
   "metadata": {},
   "outputs": [
    {
     "name": "stderr",
     "output_type": "stream",
     "text": [
      "2025-06-20 07:17:48,226 - INFO - Initializing models with: sentence-transformers/all-MiniLM-L6-v2\n"
     ]
    },
    {
     "name": "stdout",
     "output_type": "stream",
     "text": [
      "📁 Found 1286 EPO JSON files\n"
     ]
    },
    {
     "name": "stderr",
     "output_type": "stream",
     "text": [
      "2025-06-20 07:17:48,549 - INFO - Use pytorch device_name: cpu\n",
      "2025-06-20 07:17:48,549 - INFO - Load pretrained SentenceTransformer: sentence-transformers/all-MiniLM-L6-v2\n",
      "2025-06-20 07:17:49,867 - INFO - Models initialized successfully\n",
      "2025-06-20 07:17:49,888 - INFO - Added 40 valid files. Total files to process: 40\n",
      "2025-06-20 07:17:49,904 - INFO - Loaded 632 documents from 40 files (0 errors)\n",
      "2025-06-20 07:17:49,904 - INFO - Total documents in memory: 632\n",
      "Token indices sequence length is longer than the specified maximum sequence length for this model (691 > 512). Running this sequence through the model will result in indexing errors\n",
      "2025-06-20 07:17:58,100 - INFO - ✅ Processed 683 document chunks from 632 documents\n"
     ]
    }
   ],
   "source": [
    "\n",
    "# Create custom configuration\n",
    "config = EmbeddingConfig(\n",
    "    model_name=\"sentence-transformers/all-MiniLM-L6-v2\",\n",
    "    base_chunk_size=300,  # Larger chunks\n",
    "    min_chunk_size=200,   # Higher minimum\n",
    "    chunk_overlap=50,     # More overlap\n",
    "    batch_size=16,        # Larger batches\n",
    "    enable_debug=False    # Less verbose output\n",
    ")\n",
    "\n",
    "file_list = get_epo_json_file_paths()[:40]\n",
    "# Initialize with custom config\n",
    "embedder = DocumentEmbedder(config=config)\n",
    "\n",
    "# Rest of your workflow remains the same\n",
    "embedder.add_file_paths(file_list)\n",
    "embedder.load_json_files(extract_fn=extract_documents_epo)\n",
    "processed_docs = embedder.process_all_documents()\n",
    "\n",
    "# for i, doc in enumerate(processed_docs[:3]):\n",
    "#     print(f\"\\nDoc {i}:\\n\", doc)\n",
    "\n",
    "from langchain_core.documents import Document\n",
    "\n",
    "processed_docs = [\n",
    "    Document(page_content=doc[\"text\"], metadata=doc.get(\"metadata\", {}))\n",
    "    for doc in processed_docs\n",
    "]"
   ]
  },
  {
   "cell_type": "code",
   "execution_count": 19,
   "id": "52c855eb-db55-4e9f-95ee-43e03fb97a12",
   "metadata": {},
   "outputs": [
    {
     "name": "stderr",
     "output_type": "stream",
     "text": [
      "2025-06-20 07:35:43,819 - INFO - Use pytorch device_name: cpu\n",
      "2025-06-20 07:35:43,820 - INFO - Load pretrained SentenceTransformer: sentence-transformers/all-MiniLM-L6-v2\n"
     ]
    }
   ],
   "source": [
    "from langchain_chroma import Chroma\n",
    "from langchain_community.vectorstores.utils import filter_complex_metadata\n",
    "\n",
    "from langchain_huggingface import HuggingFaceEmbeddings\n",
    "\n",
    "embeddings = HuggingFaceEmbeddings(model_name=\"sentence-transformers/all-MiniLM-L6-v2\")\n",
    "\n",
    "vectors = []\n",
    "\n",
    "for chunk in processed_docs:\n",
    "    vector = embeddings.embed_query(chunk.page_content)\n",
    "    vectors.append(vector)\n",
    "\n",
    "# #Create the vector store from documents\n",
    "vector_store = Chroma.from_documents(\n",
    "    documents=filter_complex_metadata(processed_docs),\n",
    "    embedding=embeddings,\n",
    "    collection_name=\"example_collection\",\n",
    "    # persist_directory=\"./chroma_langchain_db\"\n",
    ")\n"
   ]
  },
  {
   "cell_type": "code",
   "execution_count": 20,
   "id": "f8212cda-9511-4f11-ac0d-d453b501d3ec",
   "metadata": {},
   "outputs": [
    {
     "name": "stdout",
     "output_type": "stream",
     "text": [
      "\n",
      "Result #1\n",
      "----------------------------------------\n",
      "🔹 Score: 1.0109\n",
      "Title: BEAMFORMING USING AN IN-EAR AUDIO DEVICE\n",
      "File: EP19762032W1B8.xml\n",
      "📘 Section: title\n",
      "📄 Application No.: 19762032.1\n",
      "📅 Publication Date: 20250611\n",
      "🌍 Country: EP\n",
      "🆔 Patent ID: EP19762032B8W1\n",
      "📑 Match:\n",
      "\"beamforming using an in - ear audio device\"\n",
      "\n",
      "\n",
      "Result #2\n",
      "----------------------------------------\n",
      "🔹 Score: 1.0109\n",
      "Title: BEAMFORMING USING AN IN-EAR AUDIO DEVICE\n",
      "File: EP19762032W1B8.xml\n",
      "📘 Section: title\n",
      "📄 Application No.: 19762032.1\n",
      "📅 Publication Date: 20250611\n",
      "🌍 Country: EP\n",
      "🆔 Patent ID: EP19762032B8W1\n",
      "📑 Match:\n",
      "\"beamforming using an in - ear audio device\"\n",
      "\n",
      "\n",
      "Result #3\n",
      "----------------------------------------\n",
      "🔹 Score: 1.0109\n",
      "Title: BEAMFORMING USING AN IN-EAR AUDIO DEVICE\n",
      "File: EP19762032W1B8.xml\n",
      "📘 Section: title\n",
      "📄 Application No.: 19762032.1\n",
      "📅 Publication Date: 20250611\n",
      "🌍 Country: EP\n",
      "🆔 Patent ID: EP19762032B8W1\n",
      "📑 Match:\n",
      "\"beamforming using an in - ear audio device\"\n",
      "\n"
     ]
    }
   ],
   "source": [
    "# vector_store = Chroma(\n",
    "#     collection_name=\"example_collection\",\n",
    "#     embedding_function=embeddings,\n",
    "#     persist_directory=\"./chroma_langchain_db\",  # Where to save data locally, remove if not necessary\n",
    "# )\n",
    "\n",
    "ids = vector_store.add_documents(documents=processed_docs)\n",
    "\n",
    "query = \"I want to patent a system that synchronizes audio signals from different speakers in a room.\"\n",
    "embedded_query = embeddings.embed_query(query)\n",
    "\n",
    "results = vector_store.similarity_search_with_score(query, k=3)\n",
    "\n",
    "\n",
    "for i, (doc, score) in enumerate(results):\n",
    "    print(f\"\\nResult #{i+1}\")\n",
    "    print(\"-\" * 40)\n",
    "    print(f\"🔹 Score: {score:.4f}\")\n",
    "    print(f\"Title: {doc.metadata.get('title')}\")\n",
    "    print(f\"File: {doc.metadata.get('file')}\")\n",
    "    print(f\"📘 Section: {doc.metadata.get('section')}\")\n",
    "    print(f\"📄 Application No.: {doc.metadata.get('application_number')}\")\n",
    "    print(f\"📅 Publication Date: {doc.metadata.get('publication_date')}\")\n",
    "    print(f\"🌍 Country: {doc.metadata.get('country')}\")\n",
    "    print(f\"🆔 Patent ID: {doc.metadata.get('doc_id')}\")\n",
    "    print(f\"📑 Match:\\n\\\"{doc.page_content}\\\"\\n\")"
   ]
  },
  {
   "cell_type": "code",
   "execution_count": null,
   "id": "4ddde519-f411-4e34-bef0-bfd7a5dbcc9f",
   "metadata": {},
   "outputs": [],
   "source": []
  }
 ],
 "metadata": {
  "kernelspec": {
   "display_name": "Python 3 (ipykernel)",
   "language": "python",
   "name": "python3"
  },
  "language_info": {
   "codemirror_mode": {
    "name": "ipython",
    "version": 3
   },
   "file_extension": ".py",
   "mimetype": "text/x-python",
   "name": "python",
   "nbconvert_exporter": "python",
   "pygments_lexer": "ipython3",
   "version": "3.10.18"
  }
 },
 "nbformat": 4,
 "nbformat_minor": 5
}
