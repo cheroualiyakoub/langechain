{
 "cells": [
  {
   "cell_type": "code",
   "execution_count": 1,
   "id": "8a1ddad5-ac63-4327-a9c3-27a27b662745",
   "metadata": {},
   "outputs": [
    {
     "name": "stdout",
     "output_type": "stream",
     "text": [
      "✅ Successfully imported from data_config.py\n",
      "🔍 Testing JSON File Loading Functions\n",
      "==================================================\n",
      "📁 Current directory: /app/notebooks\n",
      "📁 Project root: /app\n",
      "📁 Source directory: /app/src\n",
      "✅ Python paths configured\n"
     ]
    }
   ],
   "source": [
    "import sys\n",
    "import os\n",
    "from pathlib import Path\n",
    "import time\n",
    "import json\n",
    "import math\n",
    "\n",
    "# Add source directories to Python path\n",
    "current_dir = Path.cwd()\n",
    "project_root = current_dir.parent  # Go up one level from notebooks to project root\n",
    "src_dir = project_root / \"src\"\n",
    "\n",
    "# Add paths - FIXED to include embeddings directory\n",
    "sys.path.append(str(src_dir / \"data_pipline\"))\n",
    "sys.path.append(str(src_dir / \"EU_XML_data_loader\"))\n",
    "sys.path.append(str(src_dir / \"embeddings\"))  # Add this line to include embeddings\n",
    "\n",
    "# Other imports\n",
    "from data_pipline import DataPipeline\n",
    "import get_raw_data_paths_EPO  \n",
    "from xml_loader_EPO import process_xml_files_list\n",
    "\n",
    "# Import the embeddings module\n",
    "from embeddings import DocumentEmbedder, batch_process_json_files, extract_documents_epo\n",
    "\n",
    "# Import the JSON loader functions\n",
    "sys.path.append(str(src_dir / \"data_pipline\" / \"json_loader\"))\n",
    "from json_loader_epo import get_epo_json_file_paths, get_all_json_file_paths, load_json_documents\n",
    "from embeddings import DocumentEmbedder, EmbeddingConfig\n",
    "\n",
    "print(\"🔍 Testing JSON File Loading Functions\")\n",
    "print(\"=\" * 50)\n",
    "\n",
    "print(f\"📁 Current directory: {current_dir}\")\n",
    "print(f\"📁 Project root: {project_root}\")\n",
    "print(f\"📁 Source directory: {src_dir}\")\n",
    "print(f\"✅ Python paths configured\")"
   ]
  },
  {
   "cell_type": "code",
   "execution_count": null,
   "id": "fc7fce6e-67c5-4779-b85f-d54dfd2b0ef8",
   "metadata": {},
   "outputs": [],
   "source": []
  },
  {
   "cell_type": "code",
   "execution_count": 2,
   "id": "d248908e-e3b7-4aa0-8820-5c19d8d5f0df",
   "metadata": {},
   "outputs": [],
   "source": [
    "\n",
    "import sys\n",
    "import os\n",
    "from pathlib import Path\n",
    "import time\n",
    "import json\n",
    "import math\n",
    "\n",
    "# Add source directories to Python path\n",
    "current_dir = Path.cwd()\n",
    "project_root = current_dir.parent  # Go up one level from notebooks to project root\n",
    "src_dir = project_root / \"src\"\n",
    "\n",
    "\n"
   ]
  },
  {
   "cell_type": "code",
   "execution_count": 3,
   "id": "6480c752-f107-4590-8dec-3aacacaa27ac",
   "metadata": {},
   "outputs": [
    {
     "name": "stderr",
     "output_type": "stream",
     "text": [
      "2025-06-18 17:12:31,600 - INFO - Initializing models with: sentence-transformers/all-MiniLM-L6-v2\n"
     ]
    },
    {
     "name": "stdout",
     "output_type": "stream",
     "text": [
      "📁 Found 1286 EPO JSON files\n"
     ]
    },
    {
     "name": "stderr",
     "output_type": "stream",
     "text": [
      "2025-06-18 17:12:31,949 - INFO - Use pytorch device_name: cpu\n",
      "2025-06-18 17:12:31,950 - INFO - Load pretrained SentenceTransformer: sentence-transformers/all-MiniLM-L6-v2\n",
      "2025-06-18 17:12:33,679 - INFO - Models initialized successfully\n",
      "2025-06-18 17:12:33,680 - INFO - Added 2 valid files. Total files to process: 2\n",
      "2025-06-18 17:12:33,685 - INFO - Loaded 196 documents from 2 files (0 errors)\n",
      "2025-06-18 17:12:33,685 - INFO - Total documents in memory: 196\n",
      "Token indices sequence length is longer than the specified maximum sequence length for this model (691 > 512). Running this sequence through the model will result in indexing errors\n",
      "2025-06-18 17:12:36,293 - INFO - ✅ Processed 206 document chunks from 196 documents\n"
     ]
    }
   ],
   "source": [
    "\n",
    "# Create custom configuration\n",
    "config = EmbeddingConfig(\n",
    "    model_name=\"sentence-transformers/all-MiniLM-L6-v2\",\n",
    "    base_chunk_size=300,  # Larger chunks\n",
    "    min_chunk_size=200,   # Higher minimum\n",
    "    chunk_overlap=50,     # More overlap\n",
    "    batch_size=16,        # Larger batches\n",
    "    enable_debug=False    # Less verbose output\n",
    ")\n",
    "\n",
    "file_list = get_epo_json_file_paths()[:2]\n",
    "# Initialize with custom config\n",
    "embedder = DocumentEmbedder(config=config)\n",
    "\n",
    "# Rest of your workflow remains the same\n",
    "embedder.add_file_paths(file_list)\n",
    "embedder.load_json_files(extract_fn=extract_documents_epo)\n",
    "processed_docs = embedder.process_all_documents()"
   ]
  },
  {
   "cell_type": "code",
   "execution_count": 8,
   "id": "52c855eb-db55-4e9f-95ee-43e03fb97a12",
   "metadata": {},
   "outputs": [
    {
     "name": "stderr",
     "output_type": "stream",
     "text": [
      "2025-06-18 17:15:25,956 - INFO - Query is long (690 tokens), chunking before embedding\n",
      "2025-06-18 17:15:26,047 - INFO - Found 206 results above threshold 0.005\n",
      "2025-06-18 17:15:26,047 - INFO - Used max aggregation across 4 query chunks\n"
     ]
    },
    {
     "name": "stdout",
     "output_type": "stream",
     "text": [
      "\n",
      "1. Similarity: 0.9999\n",
      "   Section: claim\n",
      "   doc_id: EP13899497B9W1\n",
      "   Text: a processor - implemented method for encoding at least one audio signal, wherein the method comprises : generating at least one vector of parameters defining the at least one audio signal ; sorting ab...\n",
      "\n",
      "2. Similarity: 0.9770\n",
      "   Section: claim\n",
      "   doc_id: EP13899497B9W1\n",
      "   Text: vector of parameters and the second intermediary distance value is given by the sum of the squares of the components of the single potential code vector ; ( b1 ) update the first intermediary distance...\n",
      "\n",
      "3. Similarity: 0.9759\n",
      "   Section: claim\n",
      "   doc_id: EP13899497B9W1\n",
      "   Text: and the second intermediary distance value is given by the sum of the squares of the components of the single potential code vector ; ( b1 ) updating the first intermediary distance value by subtracti...\n",
      "\n",
      "4. Similarity: 0.9673\n",
      "   Section: claim\n",
      "   doc_id: EP13899497B9W1\n",
      "   Text: ##ry distance value and updating the second intermediary distance value by adding the square of the last component of the single potential code vector to the second intermediary distance value depende...\n",
      "\n",
      "5. Similarity: 0.9190\n",
      "   Section: claim\n",
      "   doc_id: EP13899497B9W1\n",
      "   Text: conditions of when the single potential code vector is of non - zero parity and when the number of minus signs of the components of the vector of parameters does not differ from the constraint of the ...\n",
      "\n",
      "6. Similarity: 0.8973\n",
      "   Section: claim\n",
      "   doc_id: EP13899497B9W1\n",
      "   Text: the single ordered vector of parameters by subtracting the first intermediary distance value multiplied by a scale factor from the second intermediary distance value multiplied by the scale factor squ...\n",
      "\n",
      "7. Similarity: 0.8725\n",
      "   Section: claim\n",
      "   doc_id: EP13899497B9W1\n",
      "   Text: an apparatus comprising processing hardware for implementing encoding at least one audio signal, wherein the processing hardware is configured to : generate a vector of parameters defining the at leas...\n",
      "\n",
      "8. Similarity: 0.8453\n",
      "   Section: claim\n",
      "   doc_id: EP13899497B9W1\n",
      "   Text: between the respective single potential code vectors and the ordered vector of parameters for other scale factors ; determine the best scale factor and the best leader class associated with the single...\n",
      "\n",
      "9. Similarity: 0.7811\n",
      "   Section: Summary\n",
      "   doc_id: EP13899497B9W1\n",
      "   Text: summary according to a first aspect there is provided a processor - implemented method for encoding at least one audio signal, as set forth in independent claim 1....\n",
      "\n",
      "10. Similarity: 0.6924\n",
      "   Section: Summary\n",
      "   doc_id: EP13899497B9W1\n",
      "   Text: summary according to a second aspect there is provided an apparatus comprising processing hardware for implementing encoding at least one audio signal, set forth in independent claim 5....\n"
     ]
    }
   ],
   "source": [
    "\n",
    "long_patent_description = \"\"\"\n",
    "A processor-implemented method for encoding at least one audio signal, wherein the method comprises: generating at least one vector of parameters defining the at least one audio signal; sorting absolute-valued components of the at least one vector of parameters according to a descending order of the absolute values of the components of the at least one vector of parameters to generate an associated at least one ordered vector of parameters; selecting from a list of leader classes at least one potential code vector; performing, for each single of the selected at least one potential code vector individually and for each single of the at least one ordered vector of parameters individually, a step of determining a distance between the single potential code vector and the single ordered vector of parameters, wherein the step of determining comprises: (a) generating a first and a second intermediary distance value, respectively, wherein the first intermediary distance value is given by the sum of the products of the corresponding components of the single potential code vector and the single ordered vector of parameters and the second intermediary distance value is given by the sum of the squares of the components of the single potential code vector; (b1) updating the first intermediary distance value by subtracting the product of a last component of the single potential code vector and a last component of the single ordered vector of parameters from the first intermediary distance value and updating the second intermediary distance value by adding the square of the last component of the single potential code vector to the second intermediary distance value dependent on conditions of when the single potential code vector is of non-zero parity and when the number of minus signs of the components of the single vector of parameters differs from the constraint of the leader class parity associated with the single potential code vector; (b2) updating the first intermediary distance value by adding the product of a last component of the single potential code vector and a last component of the single ordered vector of parameters to the first intermediary distance value and updating the second intermediary distance value by adding the square of the last component of the single potential code vector to the second intermediary distance value dependent on conditions of when the single potential code vector is of non-zero parity and when the number of minus signs of the components of the single vector of parameters does not differ from the constraint of the leader class parity associated with the single potential code vector; (b3) updating the first intermediary distance value by adding the product of the last component of the single potential code vector and the last component of the single ordered vector of parameters to the first intermediary distance value and updating the second intermediary distance value by adding the square of the last component of the single potential code vector to the second intermediary distance value dependent on a condition of when the single potential code vector is not of non-zero parity; (c) determining the distance between the single potential code vector and the single ordered vector of parameters by subtracting the first intermediary distance value multiplied by a scale factor from the second intermediary distance value multiplied by the scale factor squared; determining the best leader class associated with the single potential code vector which generates the smallest associated distance; and sorting components of the best leader class by the reverse ordering of the descending order of absolute values of the components of the single vector of parameters to generate an output lattice-quantized vector\n",
    "\"\"\"\n",
    "\n",
    "results = embedder.similarity_search_with_long_query(\n",
    "    query=long_patent_description, \n",
    "    top_k=10,\n",
    "    min_similarity=0.005,\n",
    "    aggregation_method=\"max\"\n",
    ")\n",
    "\n",
    "for i, result in enumerate(results, 1):\n",
    "    print(f\"\\n{i}. Similarity: {result['similarity']:.4f}\")\n",
    "    print(f\"   Section: {result['metadata'].get('section', 'Unknown')}\")\n",
    "    print(f\"   doc_id: {result['metadata'].get('doc_id', 'Unknown')}\")\n",
    "    print(f\"   Text: {result['text'][:200]}...\")"
   ]
  },
  {
   "cell_type": "code",
   "execution_count": null,
   "id": "2fb593cb-fcaa-46bd-bb89-ed02c24d8423",
   "metadata": {},
   "outputs": [],
   "source": []
  },
  {
   "cell_type": "code",
   "execution_count": null,
   "id": "6de97e3c-8c9e-4a23-80aa-eac55fb5608f",
   "metadata": {},
   "outputs": [],
   "source": []
  }
 ],
 "metadata": {
  "kernelspec": {
   "display_name": "Python 3 (ipykernel)",
   "language": "python",
   "name": "python3"
  },
  "language_info": {
   "codemirror_mode": {
    "name": "ipython",
    "version": 3
   },
   "file_extension": ".py",
   "mimetype": "text/x-python",
   "name": "python",
   "nbconvert_exporter": "python",
   "pygments_lexer": "ipython3",
   "version": "3.10.18"
  }
 },
 "nbformat": 4,
 "nbformat_minor": 5
}
