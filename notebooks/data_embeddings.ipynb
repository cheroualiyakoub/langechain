{
 "cells": [
  {
   "cell_type": "code",
   "execution_count": 1,
   "id": "8a1ddad5-ac63-4327-a9c3-27a27b662745",
   "metadata": {},
   "outputs": [
    {
     "name": "stdout",
     "output_type": "stream",
     "text": [
      "✅ Successfully imported from data_config.py\n",
      "🔍 Testing JSON File Loading Functions\n",
      "==================================================\n",
      "📁 Current directory: /app/notebooks\n",
      "📁 Project root: /app\n",
      "📁 Source directory: /app/src\n",
      "✅ Python paths configured\n"
     ]
    }
   ],
   "source": [
    "import sys\n",
    "import os\n",
    "from pathlib import Path\n",
    "import time\n",
    "import json\n",
    "import math\n",
    "\n",
    "# Add source directories to Python path\n",
    "current_dir = Path.cwd()\n",
    "project_root = current_dir.parent  # Go up one level from notebooks to project root\n",
    "src_dir = project_root / \"src\"\n",
    "\n",
    "# Add paths - FIXED to include embeddings directory\n",
    "sys.path.append(str(src_dir / \"data_pipline\"))\n",
    "sys.path.append(str(src_dir / \"EU_XML_data_loader\"))\n",
    "sys.path.append(str(src_dir / \"embeddings\"))  # Add this line to include embeddings\n",
    "\n",
    "# Other imports\n",
    "from data_pipline import DataPipeline\n",
    "import get_raw_data_paths_EPO  \n",
    "from xml_loader_EPO import process_xml_files_list\n",
    "\n",
    "# Import the embeddings module\n",
    "from embeddings import DocumentEmbedder, batch_process_json_files, extract_documents_epo\n",
    "\n",
    "# Import the JSON loader functions\n",
    "sys.path.append(str(src_dir / \"data_pipline\" / \"json_loader\"))\n",
    "from json_loader_epo import get_epo_json_file_paths, get_all_json_file_paths, load_json_documents\n",
    "from embeddings import DocumentEmbedder, EmbeddingConfig\n",
    "\n",
    "print(\"🔍 Testing JSON File Loading Functions\")\n",
    "print(\"=\" * 50)\n",
    "\n",
    "print(f\"📁 Current directory: {current_dir}\")\n",
    "print(f\"📁 Project root: {project_root}\")\n",
    "print(f\"📁 Source directory: {src_dir}\")\n",
    "print(f\"✅ Python paths configured\")"
   ]
  },
  {
   "cell_type": "code",
   "execution_count": null,
   "id": "fc7fce6e-67c5-4779-b85f-d54dfd2b0ef8",
   "metadata": {},
   "outputs": [],
   "source": []
  },
  {
   "cell_type": "code",
   "execution_count": 3,
   "id": "d248908e-e3b7-4aa0-8820-5c19d8d5f0df",
   "metadata": {},
   "outputs": [],
   "source": [
    "\n",
    "import sys\n",
    "import os\n",
    "from pathlib import Path\n",
    "import time\n",
    "import json\n",
    "import math\n",
    "\n",
    "# Add source directories to Python path\n",
    "current_dir = Path.cwd()\n",
    "project_root = current_dir.parent  # Go up one level from notebooks to project root\n",
    "src_dir = project_root / \"src\"\n",
    "\n",
    "\n"
   ]
  },
  {
   "cell_type": "code",
   "execution_count": 4,
   "id": "6480c752-f107-4590-8dec-3aacacaa27ac",
   "metadata": {},
   "outputs": [
    {
     "name": "stderr",
     "output_type": "stream",
     "text": [
      "2025-06-18 15:22:24,376 - INFO - Initializing models with: sentence-transformers/all-MiniLM-L6-v2\n"
     ]
    },
    {
     "name": "stdout",
     "output_type": "stream",
     "text": [
      "📁 Found 1286 EPO JSON files\n"
     ]
    },
    {
     "name": "stderr",
     "output_type": "stream",
     "text": [
      "2025-06-18 15:22:24,684 - INFO - Use pytorch device_name: cpu\n",
      "2025-06-18 15:22:24,685 - INFO - Load pretrained SentenceTransformer: sentence-transformers/all-MiniLM-L6-v2\n",
      "2025-06-18 15:22:26,168 - INFO - Models initialized successfully\n",
      "2025-06-18 15:22:26,186 - INFO - Added 10 valid files. Total files to process: 10\n",
      "2025-06-18 15:22:26,196 - INFO - Loaded 331 documents from 10 files (0 errors)\n",
      "2025-06-18 15:22:26,197 - INFO - Total documents in memory: 331\n",
      "Token indices sequence length is longer than the specified maximum sequence length for this model (691 > 512). Running this sequence through the model will result in indexing errors\n",
      "2025-06-18 15:22:32,975 - INFO - ✅ Processed 360 document chunks from 331 documents\n"
     ]
    }
   ],
   "source": [
    "\n",
    "# Create custom configuration\n",
    "config = EmbeddingConfig(\n",
    "    model_name=\"sentence-transformers/all-MiniLM-L6-v2\",\n",
    "    base_chunk_size=300,  # Larger chunks\n",
    "    min_chunk_size=200,   # Higher minimum\n",
    "    chunk_overlap=50,     # More overlap\n",
    "    batch_size=16,        # Larger batches\n",
    "    enable_debug=False    # Less verbose output\n",
    ")\n",
    "\n",
    "file_list = get_epo_json_file_paths()[:10]\n",
    "# Initialize with custom config\n",
    "embedder = DocumentEmbedder(config=config)\n",
    "\n",
    "# Rest of your workflow remains the same\n",
    "embedder.add_file_paths(file_list)\n",
    "embedder.load_json_files(extract_fn=extract_documents_epo)\n",
    "processed_docs = embedder.process_all_documents()"
   ]
  },
  {
   "cell_type": "code",
   "execution_count": null,
   "id": "52c855eb-db55-4e9f-95ee-43e03fb97a12",
   "metadata": {},
   "outputs": [],
   "source": []
  }
 ],
 "metadata": {
  "kernelspec": {
   "display_name": "Python 3 (ipykernel)",
   "language": "python",
   "name": "python3"
  },
  "language_info": {
   "codemirror_mode": {
    "name": "ipython",
    "version": 3
   },
   "file_extension": ".py",
   "mimetype": "text/x-python",
   "name": "python",
   "nbconvert_exporter": "python",
   "pygments_lexer": "ipython3",
   "version": "3.10.18"
  }
 },
 "nbformat": 4,
 "nbformat_minor": 5
}
