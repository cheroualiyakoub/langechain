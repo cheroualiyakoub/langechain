{
 "cells": [
  {
   "cell_type": "code",
   "execution_count": 1,
   "id": "8a1ddad5-ac63-4327-a9c3-27a27b662745",
   "metadata": {},
   "outputs": [
    {
     "name": "stdout",
     "output_type": "stream",
     "text": [
      "✅ Successfully imported from data_config.py\n",
      "🔍 Testing JSON File Loading Functions\n",
      "==================================================\n",
      "📁 Current directory: /app/notebooks\n",
      "📁 Project root: /app\n",
      "📁 Source directory: /app/src\n",
      "✅ Python paths configured\n"
     ]
    }
   ],
   "source": [
    "import sys\n",
    "import os\n",
    "from pathlib import Path\n",
    "import time\n",
    "import json\n",
    "import math\n",
    "\n",
    "# Add source directories to Python path\n",
    "current_dir = Path.cwd()\n",
    "project_root = current_dir.parent  # Go up one level from notebooks to project root\n",
    "src_dir = project_root / \"src\"\n",
    "\n",
    "# Add paths - FIXED to include embeddings directory\n",
    "sys.path.append(str(src_dir / \"data_pipline\"))\n",
    "sys.path.append(str(src_dir / \"EU_XML_data_loader\"))\n",
    "sys.path.append(str(src_dir / \"embeddings\"))  # Add this line to include embeddings\n",
    "\n",
    "# Other imports\n",
    "from data_pipline import DataPipeline\n",
    "import get_raw_data_paths_EPO  \n",
    "from xml_loader_EPO import process_xml_files_list\n",
    "\n",
    "# Import the embeddings module\n",
    "from embeddings import DocumentEmbedder, batch_process_json_files, extract_documents_epo\n",
    "\n",
    "# Import the JSON loader functions\n",
    "sys.path.append(str(src_dir / \"data_pipline\" / \"json_loader\"))\n",
    "from json_loader_epo import get_epo_json_file_paths, get_all_json_file_paths, load_json_documents\n",
    "from embeddings import DocumentEmbedder, EmbeddingConfig\n",
    "\n",
    "print(\"🔍 Testing JSON File Loading Functions\")\n",
    "print(\"=\" * 50)\n",
    "\n",
    "print(f\"📁 Current directory: {current_dir}\")\n",
    "print(f\"📁 Project root: {project_root}\")\n",
    "print(f\"📁 Source directory: {src_dir}\")\n",
    "print(f\"✅ Python paths configured\")"
   ]
  },
  {
   "cell_type": "code",
   "execution_count": null,
   "id": "fc7fce6e-67c5-4779-b85f-d54dfd2b0ef8",
   "metadata": {},
   "outputs": [],
   "source": []
  },
  {
   "cell_type": "code",
   "execution_count": 2,
   "id": "d248908e-e3b7-4aa0-8820-5c19d8d5f0df",
   "metadata": {},
   "outputs": [],
   "source": [
    "\n",
    "import sys\n",
    "import os\n",
    "from pathlib import Path\n",
    "import time\n",
    "import json\n",
    "import math\n",
    "\n",
    "# Add source directories to Python path\n",
    "current_dir = Path.cwd()\n",
    "project_root = current_dir.parent  # Go up one level from notebooks to project root\n",
    "src_dir = project_root / \"src\"\n",
    "\n",
    "\n"
   ]
  },
  {
   "cell_type": "code",
   "execution_count": 3,
   "id": "6480c752-f107-4590-8dec-3aacacaa27ac",
   "metadata": {},
   "outputs": [
    {
     "name": "stderr",
     "output_type": "stream",
     "text": [
      "2025-06-19 14:15:39,105 - INFO - Initializing models with: sentence-transformers/all-MiniLM-L6-v2\n"
     ]
    },
    {
     "name": "stdout",
     "output_type": "stream",
     "text": [
      "📁 Found 1286 EPO JSON files\n"
     ]
    },
    {
     "name": "stderr",
     "output_type": "stream",
     "text": [
      "2025-06-19 14:15:39,447 - INFO - Use pytorch device_name: cpu\n",
      "2025-06-19 14:15:39,448 - INFO - Load pretrained SentenceTransformer: sentence-transformers/all-MiniLM-L6-v2\n",
      "2025-06-19 14:15:41,012 - INFO - Models initialized successfully\n",
      "2025-06-19 14:15:41,014 - INFO - Added 2 valid files. Total files to process: 2\n",
      "2025-06-19 14:15:41,022 - INFO - Loaded 196 documents from 2 files (0 errors)\n",
      "2025-06-19 14:15:41,023 - INFO - Total documents in memory: 196\n",
      "Token indices sequence length is longer than the specified maximum sequence length for this model (691 > 512). Running this sequence through the model will result in indexing errors\n",
      "2025-06-19 14:15:43,818 - INFO - ✅ Processed 206 document chunks from 196 documents\n"
     ]
    }
   ],
   "source": [
    "\n",
    "# Create custom configuration\n",
    "config = EmbeddingConfig(\n",
    "    model_name=\"sentence-transformers/all-MiniLM-L6-v2\",\n",
    "    base_chunk_size=300,  # Larger chunks\n",
    "    min_chunk_size=200,   # Higher minimum\n",
    "    chunk_overlap=50,     # More overlap\n",
    "    batch_size=16,        # Larger batches\n",
    "    enable_debug=False    # Less verbose output\n",
    ")\n",
    "\n",
    "file_list = get_epo_json_file_paths()[:2]\n",
    "# Initialize with custom config\n",
    "embedder = DocumentEmbedder(config=config)\n",
    "\n",
    "# Rest of your workflow remains the same\n",
    "embedder.add_file_paths(file_list)\n",
    "embedder.load_json_files(extract_fn=extract_documents_epo)\n",
    "processed_docs = embedder.process_all_documents()"
   ]
  },
  {
   "cell_type": "code",
   "execution_count": 4,
   "id": "52c855eb-db55-4e9f-95ee-43e03fb97a12",
   "metadata": {},
   "outputs": [
    {
     "name": "stderr",
     "output_type": "stream",
     "text": [
      "2025-06-19 14:15:46,854 - INFO - Query is long (426 tokens), chunking before embedding\n",
      "2025-06-19 14:15:46,948 - INFO - Found 112 results above threshold 0.4\n",
      "2025-06-19 14:15:46,948 - INFO - Used max aggregation across 3 query chunks\n"
     ]
    },
    {
     "name": "stdout",
     "output_type": "stream",
     "text": [
      "\n",
      "1. Similarity: 0.8551\n",
      "   Section: claim\n",
      "   doc_id: EP13899497B9W1\n",
      "   file: EP13899497W1B9.xml\n",
      "   Text: a processor - implemented method for encoding at least one audio signal, wherein the method comprises : generating at least one vector of parameters defining the at least one audio signal ; sorting ab...\n",
      "\n",
      "2. Similarity: 0.8405\n",
      "   Section: claim\n",
      "   doc_id: EP22169662B9W1\n",
      "   file: EP22169662W1B9.xml\n",
      "   Text: verfahren ausgefuhrt durch einen server ( 2 ), wobei das verfahren umfasst : - bereithalten ( 300 ) einer vielzahl von historischen funksignalinformationen, die von einer vielzahl von nutzfahrzeugen (...\n",
      "\n",
      "3. Similarity: 0.7831\n",
      "   Section: claim\n",
      "   doc_id: EP22169662B9W1\n",
      "   file: EP22169662W1B9.xml\n",
      "   Text: verfahren nach einem der anspruche 2 und 3, wobei fur das bestimmen der zu erwartenden funksignalqualitat alle historischen funksignalinformationen der historischen funksignalinformationen berucksicht...\n",
      "\n",
      "4. Similarity: 0.7767\n",
      "   Section: claim\n",
      "   doc_id: EP13899497B9W1\n",
      "   file: EP13899497W1B9.xml\n",
      "   Text: an apparatus comprising processing hardware for implementing encoding at least one audio signal, wherein the processing hardware is configured to : generate a vector of parameters defining the at leas...\n",
      "\n",
      "5. Similarity: 0.7424\n",
      "   Section: claim\n",
      "   doc_id: EP22169662B9W1\n",
      "   file: EP22169662W1B9.xml\n",
      "   Text: - uberwachen eines nutzfahrzeugs ( 103 ), das sich entlang einer vorgegebenen route ( 112 ) bewegt, durch ; - empfangen ( 301 ) von von dem uberwachten nutzfahrzeug ( 103 ) uber das funkkommunikations...\n",
      "\n",
      "6. Similarity: 0.7375\n",
      "   Section: Summary\n",
      "   doc_id: EP13899497B9W1\n",
      "   file: EP13899497W1B9.xml\n",
      "   Text: summary according to a first aspect there is provided a processor - implemented method for encoding at least one audio signal, as set forth in independent claim 1....\n",
      "\n",
      "7. Similarity: 0.7187\n",
      "   Section: claim\n",
      "   doc_id: EP22169662B9W1\n",
      "   file: EP22169662W1B9.xml\n",
      "   Text: verfahren nach einem der anspruche 2 bis 4, wobei bestimmt wird, dass die uberfalligkeit der uberwachungsinformation von dem uberwachten nutzfahrzeug ( 103 ) ein zu erwartendes ereignis ist, wenn die ...\n",
      "\n",
      "8. Similarity: 0.7084\n",
      "   Section: Description of Some Embodiments of the Application\n",
      "   doc_id: EP13899497B9W1\n",
      "   file: EP13899497W1B9.xml\n",
      "   Text: description of some embodiments of the application in some embodiments the encoder 104 can comprise a parameter encoder 205. the parameter encoder 205 can be configured to receive the parameter repres...\n",
      "\n",
      "9. Similarity: 0.6947\n",
      "   Section: claim\n",
      "   doc_id: EP22169662B9W1\n",
      "   file: EP22169662W1B9.xml\n",
      "   Text: verfahren nach anspruch 1, wobei bestimmen, ob die zeitliche uberfalligkeit ein zu erwartendes ereignis ist, umfasst : - bestimmen einer aktuellen nutzfahrzeugposition ( 114 ) des uberwachten nutzfahr...\n",
      "\n",
      "10. Similarity: 0.6472\n",
      "   Section: claim\n",
      "   doc_id: EP22169662B9W1\n",
      "   file: EP22169662W1B9.xml\n",
      "   Text: ##est teilweise basierend auf den historischen funksignalinformationen, ob die uberfalligkeit der uberwachungsinformation von dem uberwachten nutzfahrzeug ( 103 ) ein zu erwartendes ereignis ist....\n",
      "\n",
      "11. Similarity: 0.6467\n",
      "   Section: title\n",
      "   doc_id: EP13899497B9W1\n",
      "   file: EP13899497W1B9.xml\n",
      "   Text: audio signal encoder...\n",
      "\n",
      "12. Similarity: 0.6387\n",
      "   Section: claim\n",
      "   doc_id: EP22169662B9W1\n",
      "   file: EP22169662W1B9.xml\n",
      "   Text: verfahren nach anspruch 2, wobei fur das bestimmen der aktuellen nutzfahrzeugposition ( 114 ) des uberwachten nutzfahrzeugs ( 103 ) auf der vorgegebenen route zumindest eine zuvor von dem uberwachten ...\n",
      "\n",
      "13. Similarity: 0.6378\n",
      "   Section: Description of Some Embodiments of the Application\n",
      "   doc_id: EP13899497B9W1\n",
      "   file: EP13899497W1B9.xml\n",
      "   Text: description of some embodiments of the application the concept for the embodiments as described herein is to determine and apply encoding to audio signals to produce efficient high quality and low bit...\n",
      "\n",
      "14. Similarity: 0.6356\n",
      "   Section: Summary\n",
      "   doc_id: EP13899497B9W1\n",
      "   file: EP13899497W1B9.xml\n",
      "   Text: summary according to a second aspect there is provided an apparatus comprising processing hardware for implementing encoding at least one audio signal, set forth in independent claim 5....\n",
      "\n",
      "15. Similarity: 0.6317\n",
      "   Section: claim\n",
      "   doc_id: EP13899497B9W1\n",
      "   file: EP13899497W1B9.xml\n",
      "   Text: the method as claimed in any of claims 1 and 2, wherein generating a first vector of parameters defining at least one audio signal comprises : dividing the at least one audio signal into time frames ;...\n"
     ]
    }
   ],
   "source": [
    "\n",
    "long_patent_description = \"\"\"\n",
    "AUDIO SIGNAL ENCODER\n",
    "A processor-implemented method for encoding at least one audio signal, wherein the method comprises: generating at least one vector of parameters defining the at least one audio signal; sorting absolute-valued components of the at least one vector of parameters according to a descending order of the absolute values of the components of the at least one vector of parameters to generate an associated at least one ordered vector of parameters; selecting from a list of leader classes at least one potential code vector; performing, for each single of the selected at least one potential code vector individually and for each single of the at least one ordered vector of parameters individually,\n",
    "Verfahren ausgeführt durch einen Server (2), wobei das Verfahren umfasst: - Bereithalten (300) einer Vielzahl von historischen Funksignalinformationen, die von einer Vielzahl von Nutzfahrzeugen (101-103) stammen, wobei jede der historischen Funksignalinformationen von einem jeweiligen der Nutzfahrzeuge an einer jeweiligen Nutzfahrzeugposition erfasst wurde, und wobei jede der historischen Funksignalinformationen die jeweilige Nutzfahrzeugposition und eine durch das jeweilige Nutzfahrzeug an der jeweiligen Nutzfahrzeugposition erfasste jeweilige Funksignalqualität eines Funkkommunikationssystems repräsentiert; - Überwachen eines Nutzfahrzeugs (103), das sich entlang einer vorgegebenen Route (112) bewegt, durch; - Empfangen (301) von von dem überwachten Nutzfahrzeug (103) über das Funkkommunikationssystem gesendeten Überwachungsinformationen, wobei \n",
    "\n",
    "\"\"\"\n",
    "\n",
    "results = embedder.similarity_search_with_long_query(\n",
    "    query=long_patent_description, \n",
    "    top_k=15,\n",
    "    min_similarity=0.4,\n",
    "    aggregation_method=\"max\"\n",
    ")\n",
    "\n",
    "for i, result in enumerate(results, 1):\n",
    "    print(f\"\\n{i}. Similarity: {result['similarity']:.4f}\")\n",
    "    print(f\"   Section: {result['metadata'].get('section', 'Unknown')}\")\n",
    "    print(f\"   doc_id: {result['metadata'].get('doc_id', 'Unknown')}\")\n",
    "    print(f\"   file: {result['metadata'].get('file', 'Unknown')}\")\n",
    "    print(f\"   Text: {result['text'][:200]}...\")"
   ]
  },
  {
   "cell_type": "code",
   "execution_count": 5,
   "id": "2fb593cb-fcaa-46bd-bb89-ed02c24d8423",
   "metadata": {},
   "outputs": [
    {
     "data": {
      "text/plain": [
       "DocumentEmbedder(model=sentence-transformers/all-MiniLM-L6-v2, documents=196, processed=206)"
      ]
     },
     "execution_count": 5,
     "metadata": {},
     "output_type": "execute_result"
    }
   ],
   "source": [
    "embedder"
   ]
  },
  {
   "cell_type": "code",
   "execution_count": null,
   "id": "6de97e3c-8c9e-4a23-80aa-eac55fb5608f",
   "metadata": {},
   "outputs": [],
   "source": []
  }
 ],
 "metadata": {
  "kernelspec": {
   "display_name": "Python 3 (ipykernel)",
   "language": "python",
   "name": "python3"
  },
  "language_info": {
   "codemirror_mode": {
    "name": "ipython",
    "version": 3
   },
   "file_extension": ".py",
   "mimetype": "text/x-python",
   "name": "python",
   "nbconvert_exporter": "python",
   "pygments_lexer": "ipython3",
   "version": "3.10.18"
  }
 },
 "nbformat": 4,
 "nbformat_minor": 5
}
