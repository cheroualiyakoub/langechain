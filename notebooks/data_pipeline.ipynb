{
 "cells": [
  {
   "cell_type": "code",
   "execution_count": null,
   "id": "f21ec49a-6dd8-4588-8ffb-cb48e4810fc2",
   "metadata": {},
   "outputs": [],
   "source": [
    "import sys\n",
    "import os\n",
    "from pathlib import Path\n",
    "import time\n",
    "import json\n",
    "\n",
    "# Add source directories to Python path\n",
    "current_dir = Path.cwd()\n",
    "project_root = current_dir.parent  # Go up one level from notebooks to project root\n",
    "src_dir = project_root / \"src\"\n",
    "\n",
    "# Add paths\n",
    "sys.path.append(str(src_dir / \"data_pipline\"))\n",
    "sys.path.append(str(src_dir / \"EU_XML_data_loader\"))\n",
    "\n",
    "\n",
    "from data_pipline import DataPipeline\n",
    "import get_raw_data_paths_EPO  \n",
    "from xml_loader_EPO import process_xml_files_list\n",
    "\n",
    "\n",
    "print(f\"📁 Current directory: {current_dir}\")\n",
    "print(f\"📁 Project root: {project_root}\")\n",
    "print(f\"📁 Source directory: {src_dir}\")\n",
    "print(f\"✅ Python paths configured\")"
   ]
  },
  {
   "cell_type": "code",
   "execution_count": null,
   "id": "e26c8554-662c-40fe-87d7-055bc7ba553e",
   "metadata": {},
   "outputs": [],
   "source": [
    "# Import and use the enhanced pipeline\n",
    "from data_pipline import DataPipeline\n",
    "\n",
    "# Initialize pipeline\n",
    "pipeline = DataPipeline()"
   ]
  },
  {
   "cell_type": "code",
   "execution_count": null,
   "id": "6f300e8f-78dd-4b2c-bd79-2352d9d287c3",
   "metadata": {},
   "outputs": [],
   "source": [
    "result_extraction = pipeline.extract_epo_data()"
   ]
  },
  {
   "cell_type": "code",
   "execution_count": null,
   "id": "9c44c77e-ac52-4f3e-b3c2-9b07b50e8748",
   "metadata": {
    "scrolled": true
   },
   "outputs": [],
   "source": [
    "results = pipeline.process_epo_xml_to_json(\n",
    "    debug=False,\n",
    "    verbose=False\n",
    "    )"
   ]
  },
  {
   "cell_type": "code",
   "execution_count": null,
   "id": "e864671e",
   "metadata": {},
   "outputs": [],
   "source": [
    "# Test the new JSON loading functionality\n",
    "sys.path.append(str(src_dir / \"data_pipline\" / \"loader\"))\n",
    "\n",
    "# Import the JSON loader functions\n",
    "from json_loader_epo import get_epo_json_file_paths, get_all_json_file_paths, load_json_documents\n",
    "\n",
    "print(\"🔍 Testing JSON File Loading Functions\")\n",
    "print(\"=\" * 50)"
   ]
  },
  {
   "cell_type": "code",
   "execution_count": null,
   "id": "a1156639",
   "metadata": {},
   "outputs": [],
   "source": [
    "# Get all JSON file paths from parced directory\n",
    "print(\"📁 Getting all JSON files from parced directory...\")\n",
    "all_json_files = get_all_json_file_paths()\n",
    "\n",
    "print(f\"\\n📊 Results:\")\n",
    "print(f\"  • Total JSON files found: {len(all_json_files)}\")\n",
    "\n",
    "# Show first few file paths as examples\n",
    "if all_json_files:\n",
    "    print(f\"\\n📄 Sample file paths:\")\n",
    "    for i, file_path in enumerate(all_json_files[:5]):  # Show first 5\n",
    "        file_name = Path(file_path).name\n",
    "        print(f\"  {i+1}. {file_name}\")\n",
    "        if i == 0:  # Show full path for first file\n",
    "            print(f\"     Full path: {file_path}\")"
   ]
  },
  {
   "cell_type": "code",
   "execution_count": null,
   "id": "9aedbc8f",
   "metadata": {},
   "outputs": [],
   "source": [
    "# Get only EPO JSON files\n",
    "print(\"📁 Getting EPO JSON files specifically...\")\n",
    "epo_json_files = get_epo_json_file_paths()\n",
    "\n",
    "print(f\"\\n📊 EPO Results:\")\n",
    "print(f\"  • EPO JSON files found: {len(epo_json_files)}\")\n",
    "\n",
    "# Verify they're the same (since all files should be EPO files)\n",
    "if len(all_json_files) == len(epo_json_files):\n",
    "    print(f\"  ✅ All JSON files are EPO files (as expected)\")\n",
    "else:\n",
    "    print(f\"  ⚠️ Mismatch: {len(all_json_files)} total vs {len(epo_json_files)} EPO files\")"
   ]
  },
  {
   "cell_type": "code",
   "execution_count": null,
   "id": "4cd156c1",
   "metadata": {},
   "outputs": [],
   "source": [
    "# Test loading documents (load first few files only for testing)\n",
    "print(\"📄 Testing document loading...\")\n",
    "\n",
    "# Load all documents\n",
    "documents = load_json_documents()\n",
    "\n",
    "print(f\"\\n📊 Document Loading Results:\")\n",
    "print(f\"  • Documents loaded: {len(documents)}\")\n",
    "\n",
    "if documents:\n",
    "    # Show info about first document\n",
    "    first_doc = documents[0]\n",
    "    print(f\"\\n📋 Sample Document Info:\")\n",
    "    print(f\"  • Content length: {len(first_doc.page_content)} characters\")\n",
    "    print(f\"  • Metadata keys: {list(first_doc.metadata.keys())}\")\n",
    "    print(f\"  • Patent ID: {first_doc.metadata.get('patent_id', 'N/A')}\")\n",
    "    print(f\"  • Title: {first_doc.metadata.get('title', 'N/A')[:100]}...\" if first_doc.metadata.get('title') else \"  • Title: N/A\")\n",
    "    \n",
    "    # Show content preview\n",
    "    content_preview = first_doc.page_content[:300] + \"...\" if len(first_doc.page_content) > 300 else first_doc.page_content\n",
    "    print(f\"\\n📝 Content Preview:\")\n",
    "    print(content_preview)"
   ]
  },
  {
   "cell_type": "code",
   "execution_count": null,
   "id": "8ad980dd-6e99-4544-84cd-4f66c82c9fcd",
   "metadata": {},
   "outputs": [],
   "source": [
    "# Summary of all operations\n",
    "print(\"\\n🎉 Summary of Operations:\")\n",
    "print(\"=\" * 40)\n",
    "print(f\"📦 Archive extraction: {'✅ Complete' if result_extraction.get('success', True) else '❌ Failed'}\")\n",
    "print(f\"🔄 XML to JSON processing: {'✅ Complete' if results.get('success', True) else '❌ Failed'}\")\n",
    "print(f\"📁 JSON files found: {len(all_json_files) if 'all_json_files' in globals() else 'N/A'}\")\n",
    "print(f\"📄 Documents loaded: {len(documents) if 'documents' in globals() else 'N/A'}\")\n",
    "\n",
    "print(f\"\\n📂 Data Pipeline Status: Ready for Vector Store Creation!\")"
   ]
  },
  {
   "cell_type": "code",
   "execution_count": null,
   "id": "07cf0bfd-aa42-4104-aa16-9a14cecfc47a",
   "metadata": {},
   "outputs": [],
   "source": []
  }
 ],
 "metadata": {
  "kernelspec": {
   "display_name": "Python 3 (ipykernel)",
   "language": "python",
   "name": "python3"
  },
  "language_info": {
   "codemirror_mode": {
    "name": "ipython",
    "version": 3
   },
   "file_extension": ".py",
   "mimetype": "text/x-python",
   "name": "python",
   "nbconvert_exporter": "python",
   "pygments_lexer": "ipython3",
   "version": "3.10.18"
  }
 },
 "nbformat": 4,
 "nbformat_minor": 5
}
