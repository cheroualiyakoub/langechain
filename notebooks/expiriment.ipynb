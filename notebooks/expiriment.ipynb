{
 "cells": [
  {
   "cell_type": "code",
   "execution_count": 24,
   "id": "b37ccf07-bde3-47a5-9de6-70a0cb836f17",
   "metadata": {},
   "outputs": [
    {
     "data": {
      "text/plain": [
       "'Environment ready for experiments'"
      ]
     },
     "execution_count": 24,
     "metadata": {},
     "output_type": "execute_result"
    }
   ],
   "source": [
    "from utils.notebook_helper import setup_notebook_environment\n",
    "setup_notebook_environment()"
   ]
  },
  {
   "cell_type": "code",
   "execution_count": 25,
   "id": "1",
   "metadata": {},
   "outputs": [],
   "source": [
    "from llm.router import LLMRouter\n",
    "\n",
    "client = LLMRouter(model=\"mistral\")\n"
   ]
  },
  {
   "cell_type": "code",
   "execution_count": 26,
   "id": "2",
   "metadata": {},
   "outputs": [
    {
     "name": "stdout",
     "output_type": "stream",
     "text": [
      " Hello! I'm an assistant designed to help answer questions, provide information, and assist with various tasks. How can I help you today?\n"
     ]
    }
   ],
   "source": [
    "print(client.ask(\"Hello, who are you?\"))"
   ]
  },
  {
   "cell_type": "markdown",
   "id": "a3ea8b1d",
   "metadata": {},
   "source": [
    "# Making Curl Requests from Jupyter\n",
    "\n",
    "There are several ways to make curl requests from Jupyter notebooks:"
   ]
  },
  {
   "cell_type": "code",
   "execution_count": 3,
   "id": "80200c9e",
   "metadata": {},
   "outputs": [
    {
     "name": "stdout",
     "output_type": "stream",
     "text": [
      "curl: (7) Failed to connect to 0.0.0.0 port 8000 after 0 ms: Couldn't connect to server\n"
     ]
    }
   ],
   "source": [
    "!curl -X GET http://0.0.0.0:8000/health\n",
    "\n"
   ]
  },
  {
   "cell_type": "code",
   "execution_count": 13,
   "id": "54bbefd9",
   "metadata": {},
   "outputs": [
    {
     "name": "stdout",
     "output_type": "stream",
     "text": [
      "Status Code: 405\n",
      "Response: {'detail': 'Method Not Allowed'}\n"
     ]
    }
   ],
   "source": [
    "import requests\n",
    "chat_data = {\n",
    "    \"message\": \"Hello from Jupyter arte yiou working!\",\n",
    "}\n",
    "response = requests.post('http://langchain_api:8000/health',  json=chat_data)\n",
    "print(f\"Status Code: {response.status_code}\")\n",
    "print(f\"Response: {response.json()}\")"
   ]
  },
  {
   "cell_type": "code",
   "execution_count": 8,
   "id": "659d31c7",
   "metadata": {},
   "outputs": [
    {
     "name": "stdout",
     "output_type": "stream",
     "text": [
      "Status Code: 200\n",
      "Response: {'response': 'Hello! Greetings from Jupyter! How can I assist you today?', 'provider': 'openai', 'model': 'gpt-4.1-nano'}\n"
     ]
    }
   ],
   "source": [
    "# Method 3: Using requests library (recommended)\n",
    "import requests\n",
    "chat_data = {\n",
    "    \"message\": \"Hello from Jupyter!\",\n",
    "}\n",
    "# GET request\n",
    "response = requests.post('http://langchain_api:8000/chat', json=chat_data)\n",
    "print(f\"Status Code: {response.status_code}\")\n",
    "print(f\"Response: {response.json()}\")"
   ]
  },
  {
   "cell_type": "code",
   "execution_count": null,
   "id": "d87bdf96",
   "metadata": {},
   "outputs": [],
   "source": [
    "# Method 4: POST request with JSON data\n",
    "import requests\n",
    "\n",
    "# Test the chat endpoint\n",
    "chat_data = {\n",
    "    \"message\": \"Hello from Jupyter!\",\n",
    "    \"model\": \"gpt4\"\n",
    "}\n",
    "\n",
    "response = requests.post(\n",
    "    'http://0.0.0.0:8000/chat',\n",
    "    json=chat_data\n",
    ")\n",
    "\n",
    "print(f\"Status Code: {response.status_code}\")\n",
    "if response.status_code == 200:\n",
    "    print(f\"Response: {response.json()}\")\n",
    "else:\n",
    "    print(f\"Error: {response.text}\")"
   ]
  },
  {
   "cell_type": "code",
   "execution_count": null,
   "id": "6bdf5368",
   "metadata": {},
   "outputs": [],
   "source": [
    "# Method 5: Equivalent curl command as shell\n",
    "!curl -X POST http://0.0.0.0:8000/chat \\\n",
    "  -H \"Content-Type: application/json\" \\\n",
    "  -d '{\"message\": \"Hello from curl!\", \"model\": \"gpt3\"}'"
   ]
  },
  {
   "cell_type": "code",
   "execution_count": null,
   "id": "5962069a",
   "metadata": {},
   "outputs": [],
   "source": [
    "# Method 6: Check available providers\n",
    "response = requests.get('http://0.0.0.0:8000/providers')\n",
    "print(f\"Available providers: {response.json()}\")"
   ]
  },
  {
   "cell_type": "code",
   "execution_count": null,
   "id": "bb133552-b468-428a-982d-e6362564085c",
   "metadata": {},
   "outputs": [],
   "source": []
  }
 ],
 "metadata": {
  "kernelspec": {
   "display_name": "Python 3 (ipykernel)",
   "language": "python",
   "name": "python3"
  },
  "language_info": {
   "codemirror_mode": {
    "name": "ipython",
    "version": 3
   },
   "file_extension": ".py",
   "mimetype": "text/x-python",
   "name": "python",
   "nbconvert_exporter": "python",
   "pygments_lexer": "ipython3",
   "version": "3.10.18"
  }
 },
 "nbformat": 4,
 "nbformat_minor": 5
}
