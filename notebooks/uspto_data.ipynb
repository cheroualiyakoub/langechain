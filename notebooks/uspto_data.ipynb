{
 "cells": [
  {
   "cell_type": "code",
   "execution_count": 7,
   "id": "e54e3462-a8ec-482e-8a74-057273ec6d92",
   "metadata": {},
   "outputs": [],
   "source": [
    "\n",
    "from bs4 import BeautifulSoup\n",
    "import pandas as pd\n",
    "import numpy as np\n",
    "import time\n",
    "import random\n",
    "import requests, zipfile, io\n",
    "import re\n",
    "\n",
    "year=\"2025\"\n",
    "\n",
    "list_of_files = requests.get(f'https://bulkdata.uspto.gov/data/patent/grant/redbook/fulltext/{year}/')\n",
    "page_html_text = list_of_files.text"
   ]
  },
  {
   "cell_type": "code",
   "execution_count": 8,
   "id": "3a700158-cd0d-4f29-a1d5-9c81f91939df",
   "metadata": {},
   "outputs": [
    {
     "name": "stdout",
     "output_type": "stream",
     "text": [
      "x\n"
     ]
    }
   ],
   "source": [
    "print(\"x\")"
   ]
  },
  {
   "cell_type": "code",
   "execution_count": 11,
   "id": "a5136617-bde2-4d12-872c-11d335f39ca3",
   "metadata": {},
   "outputs": [
    {
     "data": {
      "text/plain": [
       "<Response [200]>"
      ]
     },
     "execution_count": 11,
     "metadata": {},
     "output_type": "execute_result"
    }
   ],
   "source": [
    "list_of_files"
   ]
  },
  {
   "cell_type": "code",
   "execution_count": 10,
   "id": "6e2c118e-9e43-43e9-a1c9-34fafa3d6731",
   "metadata": {},
   "outputs": [
    {
     "data": {
      "text/plain": [
       "'<!doctype html>\\n<html lang=\"en\" data-beasties-container>\\n<head><link rel=\"preconnect\" href=\"https://fonts.gstatic.com\" crossorigin>\\n  <meta charset=\"utf-8\">\\n  <base href=\"/\">\\n  <meta name=\"viewport\" content=\"width=device-width, initial-scale=1\">\\n  <meta name=\"description\" content=\"The Open Data Portal (ODP) is USPTO\\'s data platform that empowers you to discover and easily extract USPTO data in one place for free.\">\\n\\n  <!-- adds cache control -->\\n  <meta http-equiv=\"Cache-Control\" content=\"no-cache, no-store, must-revalidate\">\\n  <meta http-equiv=\"pragma\" content=\"no-cache\">\\n  <meta http-equiv=\"expires\" content=\"-1\">\\n\\n  <link rel=\"shortcut icon\" type=\"image/x-icon\" href=\"assets/images/icons/favicon.ico\">\\n\\n  <script src=\"https://code.jquery.com/jquery-3.7.1.slim.min.js\"></script>\\n  <script src=\"https://cdn.jsdelivr.net/npm/bootstrap@4.5.3/dist/js/bootstrap.bundle.min.js\"></script>\\n\\n  <script>\\n    document.addEventListener(\\'DOMContentLoaded\\', () => {\\n      if (!window.location.host.includes(\\'localhost\\')) {\\n        const script = document.createElement(\\'script\\');\\n        script.src = \\'https://0dd6fc7fe1e2.edge.sdk.awswaf.com/0dd6fc7fe1e2/cee3ab3bc019/challenge.js\\';\\n        script.defer = true;\\n        document.body.appendChild(script);\\n      }\\n    })\\n\\n  </script>\\n\\n  <!-- <script src=\"https://0dd6fc7fe1e2.edge.sdk.awswaf.com/0dd6fc7fe1e2/cee3ab3bc019/challenge.js\" defer></script> -->\\n\\n  <style>@font-face{font-family:\\'Material Symbols Outlined\\';font-style:normal;font-weight:100 700;src:url(https://fonts.gstatic.com/s/materialsymbolsoutlined/v251/kJEhBvYX7BgnkSrUwT8OhrdQw4oELdPIeeII9v6oFsI.woff2) format(\\'woff2\\');}.material-symbols-outlined{font-family:\\'Material Symbols Outlined\\';font-weight:normal;font-style:normal;font-size:24px;line-height:1;letter-spacing:normal;text-transform:none;display:inline-block;white-space:nowrap;word-wrap:normal;direction:ltr;-webkit-font-feature-settings:\\'liga\\';-webkit-font-smoothing:antialiased;}</style>\\n\\n  <script src=\"https://components.uspto.gov/json/dynamic-trans-menu-2.0.0.js\"></script>\\n  <script>\\n    $(function () {\\n       ptoDynamicHeader.loadMenu();\\n    })\\n  </script>\\n\\n<style>\\n  .json-view[_ngcontent-ng-c2223621731]   .value[_ngcontent-ng-c2223621731]   .string[_ngcontent-ng-c2223621731] {\\n    color: var(--nxt-json-view-color-string, #ffeb2c) !important;\\n    font-weight: bold;\\n  }\\n\\n  .json-view[_ngcontent-ng-c2223621731]   .key[_ngcontent-ng-c2223621731] {\\n    color: var(--nxt-json-view-color-key, #ff7eb4) !important;\\n    font-weight: bold;\\n  }\\n\\n</style>\\n<script type=\"text/javascript\">\\n  if (!window.location.host.includes(\\'localhost\\')) {\\n    window.awsWafCookieDomainList = [\\'.uspto.gov\\', window.location.host];\\n  }\\n</script>\\n<style>@-webkit-keyframes fa-spin{0%{-webkit-transform:rotate(0deg);transform:rotate(0)}to{-webkit-transform:rotate(359deg);transform:rotate(359deg)}}@font-face{font-family:Roboto Mono Web;font-style:normal;font-weight:100;font-display:fallback;src:url(\"./media/roboto-mono-v5-latin-100-YUN6ING4.woff2\") format(\"woff2\"),url(\"./media/roboto-mono-v5-latin-100-3HIFZJKY.woff\") format(\"woff\"),url(\"./media/roboto-mono-v5-latin-100-C4H6RHLY.ttf\") format(\"truetype\")}@font-face{font-family:Roboto Mono Web;font-style:normal;font-weight:300;font-display:fallback;src:url(\"./media/roboto-mono-v5-latin-300-UE3MSWKN.woff2\") format(\"woff2\"),url(\"./media/roboto-mono-v5-latin-300-ZZSKPRLL.woff\") format(\"woff\"),url(\"./media/roboto-mono-v5-latin-300-VDBGY5EK.ttf\") format(\"truetype\")}@font-face{font-family:Roboto Mono Web;font-style:normal;font-weight:400;font-display:fallback;src:url(\"./media/roboto-mono-v5-latin-regular-OEH334AX.woff2\") format(\"woff2\"),url(\"./media/roboto-mono-v5-latin-regular-VX4ECMWJ.woff\") format(\"woff\"),url(\"./media/roboto-mono-v5-latin-regular-GMKQKSZZ.ttf\") format(\"truetype\")}@font-face{font-family:Roboto Mono Web;font-style:normal;font-weight:500;font-display:fallback;src:url(\"./media/roboto-mono-v5-latin-500-CLPMCIUR.woff2\") format(\"woff2\"),url(\"./media/roboto-mono-v5-latin-500-OOTWJLSO.woff\") format(\"woff\"),url(\"./media/roboto-mono-v5-latin-500-NGPM3PCG.ttf\") format(\"truetype\")}@font-face{font-family:Roboto Mono Web;font-style:normal;font-weight:700;font-display:fallback;src:url(\"./media/roboto-mono-v5-latin-700-3IFUE232.woff2\") format(\"woff2\"),url(\"./media/roboto-mono-v5-latin-700-SEEK5IYA.woff\") format(\"woff\"),url(\"./media/roboto-mono-v5-latin-700-V6ORYXBM.ttf\") format(\"truetype\")}@font-face{font-family:Roboto Mono Web;font-style:italic;font-weight:100;font-display:fallback;src:url(\"./media/roboto-mono-v5-latin-100italic-FYEBJ4MB.woff2\") format(\"woff2\"),url(\"./media/roboto-mono-v5-latin-100italic-RUCRC3GV.woff\") format(\"woff\"),url(\"./media/roboto-mono-v5-latin-100italic-ON3WCYX5.ttf\") format(\"truetype\")}@font-face{font-family:Roboto Mono Web;font-style:italic;font-weight:300;font-display:fallback;src:url(\"./media/roboto-mono-v5-latin-300italic-L54VLD6K.woff2\") format(\"woff2\"),url(\"./media/roboto-mono-v5-latin-300italic-K6JFQ6BC.woff\") format(\"woff\"),url(\"./media/roboto-mono-v5-latin-300italic-EVK3L2I3.ttf\") format(\"truetype\")}@font-face{font-family:Roboto Mono Web;font-style:italic;font-weight:400;font-display:fallback;src:url(\"./media/roboto-mono-v5-latin-italic-MJSZF7UQ.woff2\") format(\"woff2\"),url(\"./media/roboto-mono-v5-latin-italic-F5XQ3T7Z.woff\") format(\"woff\"),url(\"./media/roboto-mono-v5-latin-italic-FUGT23V4.ttf\") format(\"truetype\")}@font-face{font-family:Roboto Mono Web;font-style:italic;font-weight:500;font-display:fallback;src:url(\"./media/roboto-mono-v5-latin-500italic-ZDZGHI5C.woff2\") format(\"woff2\"),url(\"./media/roboto-mono-v5-latin-500italic-Q7ACCIA7.woff\") format(\"woff\"),url(\"./media/roboto-mono-v5-latin-500italic-UECBVIFQ.ttf\") format(\"truetype\")}@font-face{font-family:Roboto Mono Web;font-style:italic;font-weight:700;font-display:fallback;src:url(\"./media/roboto-mono-v5-latin-700italic-DKWOQYBO.woff2\") format(\"woff2\"),url(\"./media/roboto-mono-v5-latin-700italic-LGKNO35J.woff\") format(\"woff\"),url(\"./media/roboto-mono-v5-latin-700italic-REOZIM7F.ttf\") format(\"truetype\")}@font-face{font-family:Public Sans Web;font-style:normal;font-weight:100;font-display:fallback;src:url(\"./media/PublicSans-Thin-2EAJF6X6.woff2\") format(\"woff2\"),url(\"./media/PublicSans-Thin-ODH6WZCO.woff\") format(\"woff\"),url(\"./media/PublicSans-Thin-L4SODHRH.ttf\") format(\"truetype\")}@font-face{font-family:Public Sans Web;font-style:normal;font-weight:200;font-display:fallback;src:url(\"./media/PublicSans-ExtraLight-TBVM2LWB.woff2\") format(\"woff2\"),url(\"./media/PublicSans-ExtraLight-4H27SPMZ.woff\") format(\"woff\"),url(\"./media/PublicSans-ExtraLight-FR3R5PPX.ttf\") format(\"truetype\")}@font-face{font-family:Public Sans Web;font-style:normal;font-weight:300;font-display:fallback;src:url(\"./media/PublicSans-Light-BMADTRRP.woff2\") format(\"woff2\"),url(\"./media/PublicSans-Light-4IF4CZNR.woff\") format(\"woff\"),url(\"./media/PublicSans-Light-LNCBG2WA.ttf\") format(\"truetype\")}@font-face{font-family:Public Sans Web;font-style:normal;font-weight:400;font-display:fallback;src:url(\"./media/PublicSans-Regular-YFW5J2NF.woff2\") format(\"woff2\"),url(\"./media/PublicSans-Regular-4Q4QZQSX.woff\") format(\"woff\"),url(\"./media/PublicSans-Regular-NS4BBAFE.ttf\") format(\"truetype\")}@font-face{font-family:Public Sans Web;font-style:normal;font-weight:500;font-display:fallback;src:url(\"./media/PublicSans-Medium-4675M7M4.woff2\") format(\"woff2\"),url(\"./media/PublicSans-Medium-PL72SLNK.woff\") format(\"woff\"),url(\"./media/PublicSans-Medium-SZ3FD5T2.ttf\") format(\"truetype\")}@font-face{font-family:Public Sans Web;font-style:normal;font-weight:600;font-display:fallback;src:url(\"./media/PublicSans-SemiBold-5PQOTNS6.woff2\") format(\"woff2\"),url(\"./media/PublicSans-SemiBold-45FOHQBU.woff\") format(\"woff\"),url(\"./media/PublicSans-SemiBold-KVH2FVHW.ttf\") format(\"truetype\")}@font-face{font-family:Public Sans Web;font-style:normal;font-weight:700;font-display:fallback;src:url(\"./media/PublicSans-Bold-GGIVVASV.woff2\") format(\"woff2\"),url(\"./media/PublicSans-Bold-CIVSPHGK.woff\") format(\"woff\"),url(\"./media/PublicSans-Bold-OHZ7J27C.ttf\") format(\"truetype\")}@font-face{font-family:Public Sans Web;font-style:normal;font-weight:800;font-display:fallback;src:url(\"./media/PublicSans-ExtraBold-OMSV3FUO.woff2\") format(\"woff2\"),url(\"./media/PublicSans-ExtraBold-FZ3ISOUX.woff\") format(\"woff\"),url(\"./media/PublicSans-ExtraBold-2FMJBSQM.ttf\") format(\"truetype\")}@font-face{font-family:Public Sans Web;font-style:normal;font-weight:900;font-display:fallback;src:url(\"./media/PublicSans-Black-455KYXUX.woff2\") format(\"woff2\"),url(\"./media/PublicSans-Black-ZDPJ46CA.woff\") format(\"woff\"),url(\"./media/PublicSans-Black-JCMLHPQ2.ttf\") format(\"truetype\")}@font-face{font-family:Public Sans Web;font-style:italic;font-weight:100;font-display:fallback;src:url(\"./media/PublicSans-ThinItalic-EE5MKXEA.woff2\") format(\"woff2\"),url(\"./media/PublicSans-ThinItalic-MQNIFPEF.woff\") format(\"woff\"),url(\"./media/PublicSans-ThinItalic-ALO7N53Z.ttf\") format(\"truetype\")}@font-face{font-family:Public Sans Web;font-style:italic;font-weight:200;font-display:fallback;src:url(\"./media/PublicSans-ExtraLightItalic-HNBQXHYI.woff2\") format(\"woff2\"),url(\"./media/PublicSans-ExtraLightItalic-A47QIM6V.woff\") format(\"woff\"),url(\"./media/PublicSans-ExtraLightItalic-F6B7CS7H.ttf\") format(\"truetype\")}@font-face{font-family:Public Sans Web;font-style:italic;font-weight:300;font-display:fallback;src:url(\"./media/PublicSans-LightItalic-V4T6R76H.woff2\") format(\"woff2\"),url(\"./media/PublicSans-LightItalic-BFUX6DQN.woff\") format(\"woff\"),url(\"./media/PublicSans-LightItalic-BPHQJBBW.ttf\") format(\"truetype\")}@font-face{font-family:Public Sans Web;font-style:italic;font-weight:400;font-display:fallback;src:url(\"./media/PublicSans-Italic-HCENNFUR.woff2\") format(\"woff2\"),url(\"./media/PublicSans-Italic-7FQUBDCJ.woff\") format(\"woff\"),url(\"./media/PublicSans-Italic-DXPUWOAW.ttf\") format(\"truetype\")}@font-face{font-family:Public Sans Web;font-style:italic;font-weight:500;font-display:fallback;src:url(\"./media/PublicSans-MediumItalic-7BBSVODB.woff2\") format(\"woff2\"),url(\"./media/PublicSans-MediumItalic-YVD5ZALW.woff\") format(\"woff\"),url(\"./media/PublicSans-MediumItalic-O4LFIWIO.ttf\") format(\"truetype\")}@font-face{font-family:Public Sans Web;font-style:italic;font-weight:600;font-display:fallback;src:url(\"./media/PublicSans-SemiBoldItalic-WL6JOFO4.woff2\") format(\"woff2\"),url(\"./media/PublicSans-SemiBoldItalic-NZPOMCKF.woff\") format(\"woff\"),url(\"./media/PublicSans-SemiBoldItalic-FFWO73B5.ttf\") format(\"truetype\")}@font-face{font-family:Public Sans Web;font-style:italic;font-weight:700;font-display:fallback;src:url(\"./media/PublicSans-BoldItalic-JFPA4F4B.woff2\") format(\"woff2\"),url(\"./media/PublicSans-BoldItalic-TCJ7UDWM.woff\") format(\"woff\"),url(\"./media/PublicSans-BoldItalic-GZA45DUD.ttf\") format(\"truetype\")}@font-face{font-family:Public Sans Web;font-style:italic;font-weight:800;font-display:fallback;src:url(\"./media/PublicSans-ExtraBoldItalic-ESARUGMP.woff2\") format(\"woff2\"),url(\"./media/PublicSans-ExtraBoldItalic-CFSSIEPJ.woff\") format(\"woff\"),url(\"./media/PublicSans-ExtraBoldItalic-K6JEMYQ2.ttf\") format(\"truetype\")}@font-face{font-family:Public Sans Web;font-style:italic;font-weight:900;font-display:fallback;src:url(\"./media/PublicSans-BlackItalic-SOIPLSKY.woff2\") format(\"woff2\"),url(\"./media/PublicSans-BlackItalic-LGD3RXA5.woff\") format(\"woff\"),url(\"./media/PublicSans-BlackItalic-YIGLL2NC.ttf\") format(\"truetype\")}:root{--blue:#007bff;--indigo:#6610f2;--purple:#6f42c1;--pink:#e83e8c;--red:#dc3545;--orange:#fd7e14;--yellow:#ffc107;--green:#28a745;--teal:#20c997;--cyan:#17a2b8;--white:#fff;--gray:#6c757d;--gray-dark:#343a40;--primary:#005ea2;--secondary:#757575;--success:#008139;--info:#207ea0;--warning:#fa9441;--danger:#d83933;--light:#f0f0f0;--dark:#1b1b1b;--breakpoint-xs:0;--breakpoint-sm:576px;--breakpoint-md:768px;--breakpoint-lg:992px;--breakpoint-xl:1200px;--font-family-sans-serif:\"Public Sans Web\", -apple-system, BlinkMacSystemFont, \"Segoe UI\", \"Roboto\", Helvetica, Arial, sans-serif, \"Apple Color Emoji\", \"Segoe UI Emoji\", \"Segoe UI Symbol\";--font-family-monospace:\"Roboto Mono Web\", \"Bitstream Vera Sans Mono\", \"Consolas\", \"Courier\", monospace}*,*:before,*:after{box-sizing:border-box}html{font-family:sans-serif;line-height:1.15;-webkit-text-size-adjust:100%;-webkit-tap-highlight-color:rgba(0,0,0,0)}body{margin:0;font-family:Public Sans Web,-apple-system,BlinkMacSystemFont,Segoe UI,Roboto,Helvetica,Arial,sans-serif,\"Apple Color Emoji\",\"Segoe UI Emoji\",Segoe UI Symbol;font-size:1rem;font-weight:400;line-height:1.5;color:#1b1b1b;text-align:left;background-color:#fff}@media print{*,*:before,*:after{text-shadow:none!important;box-shadow:none!important}@page{size:a3}body{min-width:992px!important}}html,body{height:100%}html,body{max-width:100%;overflow-x:hidden}html{font-size:13px;-webkit-text-size-adjust:none}</style><link rel=\"stylesheet\" href=\"styles-PBKQSAFS.css\" media=\"print\" onload=\"this.media=\\'all\\'\"><noscript><link rel=\"stylesheet\" href=\"styles-PBKQSAFS.css\"></noscript></head>\\n<body>\\n  <app-root></app-root>\\n\\n  <script type=\"text/javascript\">\\n\\n    // Declare dataLayer for GTM use later\\n    var dataLayer = window.dataLayer || [];\\n\\n    // Set the global variable for this ais property\\n    var ais_prop_id = \\'UA-21265023-71\\';\\n\\n    // Doesn\\'t participate in DAP\\n    var enableDAP = false;\\n\\n    // Set up the GTM code for the default container\\n    // Google Tag Manager\\n\\n    if (window.location.host.includes(\\'dev\\') || window.location.host.includes(\\'test\\')) {\\n\\n      dataLayer.push({\\'enableRollup\\': false, \\'enableSiteSpecific\\': true});\\n\\n      (function(w,d,s,l,i){w[l]=w[l]||[];w[l].push({\\'gtm.start\\':\\n        new Date().getTime(),event:\\'gtm.js\\'});var f=d.getElementsByTagName(s)[0],\\n        j=d.createElement(s),dl=l!=\\'dataLayer\\'?\\'&l=\\'+l:\\'\\';j.async=true;j.src=\\n        \\'//www.googletagmanager.com/gtm.js?id=\\'+i+dl;f.parentNode.insertBefore(j,f);\\n        })(window,document,\\'script\\',\\'dataLayer\\',\\'GTM-ND6KMW\\');\\n\\n    } else if (!window.location.host.includes(\\'localhost\\')) {\\n\\n      // production participates in DAP:\\n      enableDAP = true;\\n\\n      dataLayer.push({\\'enableRollup\\': true, \\'enableSiteSpecific\\': true});\\n\\n      (function(w,d,s,l,i){w[l]=w[l]||[];w[l].push({\\'gtm.start\\':\\n        new Date().getTime(),event:\\'gtm.js\\'});var f=d.getElementsByTagName(s)[0],\\n        j=d.createElement(s),dl=l!=\\'dataLayer\\'?\\'&l=\\'+l:\\'\\';j.async=true;j.src=\\n        \\'//www.googletagmanager.com/gtm.js?id=\\'+i+dl;f.parentNode.insertBefore(j,f);\\n        })(window,document,\\'script\\',\\'dataLayer\\',\\'GTM-5D5BBD\\');\\n    }\\n\\n  </script>\\n\\n  <script>\\n\\n    function expandAll() {\\n      $(\"details\").attr(\"open\",\"\");\\n    }\\n\\n    function collapseAll() {\\n      $(\"details\").removeAttr(\"open\");\\n    }\\n\\n  </script>\\n\\n  <script type=\"text/javascript\">\\n    if (!window.location.host.includes(\\'localhost\\')) {\\n      (function(){var g=function(e,h,f,g){\\n      this.get=function(a){for(var a=a+\"=\",c=document.cookie.split(\";\"),b=0,e=c.length;b<e;b++){for(var d=c[b];\" \"==d.charAt(0);)d=d.substring(1,d.length);if(0==d.indexOf(a))return d.substring(a.length,d.length)}return null};\\n      this.set=function(a,c){var b=\"\",b=new Date;b.setTime(b.getTime()+6048E5);b=\"; expires=\"+b.toGMTString();document.cookie=a+\"=\"+c+b+\"; path=/; \"};\\n      this.check=function(){var a=this.get(f);if(a)a=a.split(\":\");else if(100!=e)\"v\"==h&&(e=Math.random()>=e/100?0:100),a=[h,e,0],this.set(f,a.join(\":\"));else return!0;var c=a[1];if(100==c)return!0;switch(a[0]){case \"v\":return!1;case \"r\":return c=a[2]%Math.floor(100/c),a[2]++,this.set(f,a.join(\":\")),!c}return!0};\\n      this.go=function(){if(this.check()){var a=document.createElement(\"script\");a.type=\"text/javascript\";a.src=g;document.body&&document.body.appendChild(a)}};\\n      this.start=function(){var t=this;\"complete\"!==document.readyState?window.addEventListener?window.addEventListener(\"load\",function(){t.go()},!1):window.attachEvent&&window.attachEvent(\"onload\",function(){t.go()}):t.go()};};\\n      try{(new g(100,\"r\",\"QSI_S_ZN_3qMKzMOfOtT7MsC\",\"https://zn3qmkzmofott7msc-uspto.gov1.siteintercept.qualtrics.com/SIE/?Q_ZID=ZN_3qMKzMOfOtT7MsC\")).start()}catch(i){}})();\\n    }\\n  </script>\\n\\n<link rel=\"modulepreload\" href=\"chunk-IJQA3OJU.js\"><link rel=\"modulepreload\" href=\"chunk-XCHXHQHE.js\"><link rel=\"modulepreload\" href=\"chunk-QZPEZCCV.js\"><link rel=\"modulepreload\" href=\"chunk-FCDEYLTV.js\"><link rel=\"modulepreload\" href=\"chunk-5ASMRMAI.js\"><link rel=\"modulepreload\" href=\"chunk-PT64EOC2.js\"><link rel=\"modulepreload\" href=\"chunk-XI4ZS2IS.js\"><link rel=\"modulepreload\" href=\"chunk-74JWOBBV.js\"><link rel=\"modulepreload\" href=\"chunk-N3TWBCUP.js\"><link rel=\"modulepreload\" href=\"chunk-BODZH67C.js\"><script src=\"polyfills-FFHMD2TL.js\" type=\"module\"></script><script src=\"scripts-JEDWOFEQ.js\" defer></script><script src=\"main-6IIC5LR7.js\" type=\"module\"></script></body>\\n</html>\\n'"
      ]
     },
     "execution_count": 10,
     "metadata": {},
     "output_type": "execute_result"
    }
   ],
   "source": [
    "page_html_text"
   ]
  },
  {
   "cell_type": "code",
   "execution_count": 13,
   "id": "92c3516d-b2e6-4b4d-b5ad-d1465c534f46",
   "metadata": {},
   "outputs": [
    {
     "ename": "IndexError",
     "evalue": "list index out of range",
     "output_type": "error",
     "traceback": [
      "\u001b[0;31m---------------------------------------------------------------------------\u001b[0m",
      "\u001b[0;31mIndexError\u001b[0m                                Traceback (most recent call last)",
      "Cell \u001b[0;32mIn[13], line 5\u001b[0m\n\u001b[1;32m      3\u001b[0m html_parser \u001b[38;5;241m=\u001b[39m BeautifulSoup(page_html_text, \u001b[38;5;124m'\u001b[39m\u001b[38;5;124mhtml.parser\u001b[39m\u001b[38;5;124m'\u001b[39m)\n\u001b[1;32m      4\u001b[0m href_files_list \u001b[38;5;241m=\u001b[39m []\n\u001b[0;32m----> 5\u001b[0m \u001b[38;5;28;01mfor\u001b[39;00m tr \u001b[38;5;129;01min\u001b[39;00m \u001b[43mhtml_parser\u001b[49m\u001b[38;5;241;43m.\u001b[39;49m\u001b[43mfind_all\u001b[49m\u001b[43m(\u001b[49m\u001b[38;5;124;43m'\u001b[39;49m\u001b[38;5;124;43mtable\u001b[39;49m\u001b[38;5;124;43m'\u001b[39;49m\u001b[43m)\u001b[49m\u001b[43m[\u001b[49m\u001b[38;5;241;43m1\u001b[39;49m\u001b[43m]\u001b[49m\u001b[38;5;241m.\u001b[39mfind_all(\u001b[38;5;124m'\u001b[39m\u001b[38;5;124ma\u001b[39m\u001b[38;5;124m'\u001b[39m):\n\u001b[1;32m      6\u001b[0m     \u001b[38;5;28;01mif\u001b[39;00m tr[\u001b[38;5;124m'\u001b[39m\u001b[38;5;124mhref\u001b[39m\u001b[38;5;124m'\u001b[39m] \u001b[38;5;241m!=\u001b[39m \u001b[38;5;28;01mNone\u001b[39;00m: \n\u001b[1;32m      7\u001b[0m         href_files_list\u001b[38;5;241m.\u001b[39mappend(tr[\u001b[38;5;124m'\u001b[39m\u001b[38;5;124mhref\u001b[39m\u001b[38;5;124m'\u001b[39m])\n",
      "\u001b[0;31mIndexError\u001b[0m: list index out of range"
     ]
    }
   ],
   "source": [
    "list_of_files = requests.get(f'https://bulkdata.uspto.gov/data/patent/grant/redbook/fulltext/{year}/')\n",
    "page_html_text = list_of_files.text\n",
    "html_parser = BeautifulSoup(page_html_text, 'html.parser')\n",
    "href_files_list = []\n",
    "for tr in html_parser.find_all('table')[1].find_all('a'):\n",
    "    if tr['href'] != None: \n",
    "        href_files_list.append(tr['href'])\n",
    "if year == 2001:\n",
    "    href_files_list = list(filter(lambda x: x.endswith('.zip') and 'aps' in x, href_files_list))\n",
    "else:\n",
    "    href_files_list = list(filter(lambda x: x.endswith('.zip'), href_files_list))"
   ]
  },
  {
   "cell_type": "code",
   "execution_count": null,
   "id": "6f520325-1684-4309-8641-44fde6356f75",
   "metadata": {},
   "outputs": [],
   "source": [
    "from parsers.parse_txt_file import *\n",
    "from parsers.parse_xml_v2_file import *\n",
    "from parsers.parse_xml_v4_file import *\n",
    "from bs4 import BeautifulSoup\n",
    "import pandas as pd\n",
    "import numpy as np\n",
    "import time\n",
    "import random\n",
    "import requests, zipfile, io\n",
    "import re\n",
    "\n",
    "\n",
    "\n",
    "def read_and_parse_yearly_data(year, data_items):\n",
    "    if type(year) == int and year >= 1976 and year <= 2020: \n",
    "        list_of_files = requests.get(f'https://bulkdata.uspto.gov/data/patent/grant/redbook/fulltext/{year}/')\n",
    "        page_html_text = list_of_files.text\n",
    "        html_parser = BeautifulSoup(page_html_text, 'html.parser')\n",
    "        href_files_list = []\n",
    "        for tr in html_parser.find_all('table')[1].find_all('a'):\n",
    "            if tr['href'] != None: \n",
    "                href_files_list.append(tr['href'])\n",
    "        if year == 2001:\n",
    "            href_files_list = list(filter(lambda x: x.endswith('.zip') and 'aps' in x, href_files_list))\n",
    "        else:\n",
    "            href_files_list = list(filter(lambda x: x.endswith('.zip'), href_files_list))\n",
    "        full_yearly_data = []\n",
    "        print(f'{len(href_files_list)} files found')\n",
    "        current_file_number = 0\n",
    "        for file in href_files_list:\n",
    "            current_file_number += 1\n",
    "            url = f'https://bulkdata.uspto.gov/data/patent/grant/redbook/fulltext/{year}/{file}'\n",
    "            print(f'Parsing file {current_file_number}/{len(href_files_list)} - {url}')\n",
    "            if year <= 2001:\n",
    "                patent_data = read_data_from_url_txt(url)\n",
    "                for patent in patent_data:\n",
    "                    full_yearly_data.append(parse_txt_patent_data(patent,source_url = url,data_items_list=data_items))\n",
    "            elif year in [2002,2003,2004]:\n",
    "                patent_data = read_data_from_url_xml_2(url)\n",
    "                for patent in patent_data:\n",
    "                    root_tree = ElementTree(fromstring(patent))\n",
    "                    full_yearly_data.append(parse_patent_data_xml_2(root_tree,source_url = url,data_items_list=data_items))\n",
    "            elif year > 2004:\n",
    "                patent_data = read_data_from_url_xml_4(url)\n",
    "                for patent in patent_data:\n",
    "                    root_tree = ElementTree(fromstring(patent))\n",
    "                    full_yearly_data.append(parse_patent_data_xml_4(root_tree,source_url = url,data_items_list=data_items))\n",
    "            time.sleep(30 + random.choice(range(10)))\n",
    "        return full_yearly_data\n",
    "    else:\n",
    "        print(f'ERROR: Invalid year argument \"{year}\". Year must be an integer number between 1975 and 2020')\n",
    "        \n",
    "def download_file_to_disk(url,target_path):\n",
    "    request_data = requests.get(url)\n",
    "    zipped_files = zipfile.ZipFile(io.BytesIO(request_data.content))\n",
    "    zipped_files.extractall(target_path)\n",
    "    \n",
    "def get_patent_files_by_year(year):\n",
    "        list_of_files = requests.get(f'https://bulkdata.uspto.gov/data/patent/grant/redbook/fulltext/{year}/')\n",
    "        page_html_text = list_of_files.text\n",
    "        html_parser = BeautifulSoup(page_html_text, 'html.parser')\n",
    "        href_files_list = []\n",
    "        for tr in html_parser.find_all('table')[1].find_all('a'):\n",
    "            if tr['href'] != None: \n",
    "                href_files_list.append(tr['href'])\n",
    "        if year == 2001:\n",
    "            href_files_list = list(filter(lambda x: x.endswith('.zip') and 'aps' in x, href_files_list))\n",
    "        else:\n",
    "            href_files_list = list(filter(lambda x: x.endswith('.zip'), href_files_list))\n",
    "        return href_files_list\n",
    "    \n",
    "def read_and_parse_from_url(url,data_items):\n",
    "        m = re.search('(?<=fulltext/)\\d+', url)\n",
    "        year = int(m.group(0))\n",
    "        full_yearly_data = []\n",
    "        if year <= 2001:\n",
    "            raw_patent_data = read_data_from_url_txt(url)\n",
    "            for patent in raw_patent_data:\n",
    "                if 'URL' in data_items:\n",
    "                    full_yearly_data.append(parse_txt_patent_data(patent,source_url = url,data_items_list=data_items))\n",
    "                else:\n",
    "                    full_yearly_data.append(parse_txt_patent_data(patent,data_items_list=data_items))\n",
    "        elif year in [2002,2003,2004]:\n",
    "            raw_patent_data = read_data_from_url_xml_2(url)\n",
    "            for patent in raw_patent_data:\n",
    "                root_tree = ElementTree(fromstring(patent))\n",
    "                if 'URL' in data_items:\n",
    "                    full_yearly_data.append(parse_patent_data_xml_2(root_tree,source_url = url,data_items_list=data_items))\n",
    "                else:\n",
    "                    full_yearly_data.append(parse_patent_data_xml_2(root_tree,data_items_list=data_items))\n",
    "        elif year > 2004:\n",
    "            raw_patent_data = read_data_from_url_xml_4(url)\n",
    "            for patent in raw_patent_data:\n",
    "                root_tree = ElementTree(fromstring(patent))\n",
    "                if 'URL' in data_items:\n",
    "                    full_yearly_data.append(parse_patent_data_xml_4(root_tree,source_url = url,data_items_list=data_items))\n",
    "                else:\n",
    "                    full_yearly_data.append(parse_patent_data_xml_4(root_tree,data_items_list=data_items))\n",
    "        return full_yearly_data\n",
    "    \n",
    "def read_and_parse_file_from_disk(path_to_file,data_items,extension):\n",
    "    if extension == 'txt':\n",
    "        data = read_and_parse_txt_from_disk(path_to_file,data_items)\n",
    "        return data\n",
    "    elif extension == 'xml2':\n",
    "        data = read_and_parse_xml2_from_disk(path_to_file,data_items)\n",
    "        return data\n",
    "    elif extension == 'xml4':\n",
    "        data = read_and_parse_xml4_from_disk(path_to_file,data_items)\n",
    "        return data\n",
    "    \n",
    "def download_yearly_data(year,data_items):\n",
    "    if type(year) == int and year >= 1976: \n",
    "        list_of_files = requests.get(f'https://bulkdata.uspto.gov/data/patent/grant/redbook/fulltext/{year}/')\n",
    "        page_html_text = list_of_files.text\n",
    "        html_parser = BeautifulSoup(page_html_text, 'html.parser')\n",
    "        href_files_list = []\n",
    "        for tr in html_parser.find_all('table')[1].find_all('a'):\n",
    "            if tr['href'] != None: \n",
    "                href_files_list.append(tr['href'])\n",
    "        if year == 2001:\n",
    "            href_files_list = list(filter(lambda x: x.endswith('.zip') and 'aps' in x, href_files_list))\n",
    "        else:\n",
    "            href_files_list = list(filter(lambda x: x.endswith('.zip'), href_files_list))\n",
    "        full_yearly_data = []\n",
    "        print(f'{len(href_files_list)} files found')\n",
    "        current_file_number = 0\n",
    "        for file in href_files_list:\n",
    "            current_file_number += 1\n",
    "            url = f'https://bulkdata.uspto.gov/data/patent/grant/redbook/fulltext/{year}/{file}'\n",
    "            print(f'Parsing file {current_file_number}/{len(href_files_list)} - {url}')\n",
    "            if year <= 2001:\n",
    "                patent_data = read_data_from_url_txt(url)\n",
    "                for patent in patent_data:\n",
    "                    full_yearly_data.append(parse_txt_patent_data(patent,source_url = url,data_items_list=data_items))\n",
    "            elif year in [2002,2003,2004]:\n",
    "                patent_data = read_data_from_url_xml_2(url)\n",
    "                for patent in patent_data:\n",
    "                    root_tree = ElementTree(fromstring(patent))\n",
    "                    full_yearly_data.append(parse_patent_data_xml_2(root_tree,source_url = url,data_items_list=data_items))\n",
    "            elif year > 2004:\n",
    "                patent_data = read_data_from_url_xml_4(url)\n",
    "                for patent in patent_data:\n",
    "                    root_tree = ElementTree(fromstring(patent))\n",
    "                    full_yearly_data.append(parse_patent_data_xml_4(root_tree,source_url = url,data_items_list=data_items))\n",
    "            time.sleep(30 + random.choice(range(10)))\n",
    "        return full_yearly_data\n",
    "    else:\n",
    "        print(f'ERROR: Invalid year argument \"{year}\". Year must be an integer number greater than or equal 1976')\n",
    "\n",
    "\n",
    "\n",
    "if __name__ == \"__main__\":\n",
    "    # Example usage\n",
    "    year = 2020\n",
    "    data_items = ['PATENT_NUMBER', 'TITLE', 'ABSTRACT', 'INVENTORS', 'ASSIGNEES', 'FILING_DATE', 'GRANT_DATE', 'URL']\n",
    "    patents_data = read_and_parse_yearly_data(year, data_items)\n",
    "    print(f'Parsed {len(patents_data)} patents from {year}')\n",
    "    for patent in patents_data[:5]:  # Print first 5 patents\n",
    "        print(patent)\n",
    "    "
   ]
  }
 ],
 "metadata": {
  "kernelspec": {
   "display_name": "Python 3 (ipykernel)",
   "language": "python",
   "name": "python3"
  },
  "language_info": {
   "codemirror_mode": {
    "name": "ipython",
    "version": 3
   },
   "file_extension": ".py",
   "mimetype": "text/x-python",
   "name": "python",
   "nbconvert_exporter": "python",
   "pygments_lexer": "ipython3",
   "version": "3.10.18"
  }
 },
 "nbformat": 4,
 "nbformat_minor": 5
}
